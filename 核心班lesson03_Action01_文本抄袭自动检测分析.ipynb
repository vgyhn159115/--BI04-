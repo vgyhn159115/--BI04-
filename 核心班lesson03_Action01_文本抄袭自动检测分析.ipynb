{
 "cells": [
  {
   "cell_type": "code",
   "execution_count": null,
   "metadata": {},
   "outputs": [],
   "source": []
  },
  {
   "cell_type": "markdown",
   "metadata": {},
   "source": [
    "## Action要求："
   ]
  },
  {
   "cell_type": "markdown",
   "metadata": {},
   "source": [
    "#### 文本抄袭自动检测分析: 如果你是某新闻单位工作人员（这里假设source=新华社），为了防止其他媒体抄袭你的文章，你打算做一个抄袭自动检测分析的工具\n",
    " 1）定义可能抄袭的文章来源\n",
    " 2）与原文对比定位抄袭的地方 原始数据：sqlResult.csv，共计89611篇"
   ]
  },
  {
   "cell_type": "markdown",
   "metadata": {},
   "source": [
    "### 从数据库导出的文章，字段包括：id,author,source,content,feature,title,url"
   ]
  },
  {
   "cell_type": "markdown",
   "metadata": {},
   "source": [
    "##### 常用中文停用词：chinese_stopwords.txt"
   ]
  },
  {
   "cell_type": "code",
   "execution_count": 2,
   "metadata": {},
   "outputs": [],
   "source": [
    "import pickle, os\n",
    "\n",
    "\n",
    "import jieba  \n",
    "import numpy as np\n",
    "import pandas as pd\n",
    "from icecream import ic \n",
    "from sklearn.cluster import KMeans \n",
    "from collections import defaultdict\n",
    "from matplotlib import pyplot as plt\n",
    "from sklearn.preprocessing import Normalizer # 把tfidf归一化为单位向量\n",
    "from sklearn.naive_bayes import MultinomialNB # 多项式贝叶斯模型\n",
    "from sklearn.model_selection import train_test_split # 拆分数据集\n",
    "from sklearn.feature_extraction.text import CountVectorizer, TfidfTransformer # 统计词频、计算tfidf\n",
    "from sklearn.metrics import classification_report # 分类报告 评估模型"
   ]
  },
  {
   "cell_type": "code",
   "execution_count": 3,
   "metadata": {},
   "outputs": [
    {
     "name": "stdout",
     "output_type": "stream",
     "text": [
      "Requirement already satisfied: icecream in c:\\users\\aoc\\anaconda3\\lib\\site-packages (2.0.0)\n",
      "Requirement already satisfied: asttokens>=2.0.1 in c:\\users\\aoc\\anaconda3\\lib\\site-packages (from icecream) (2.0.4)\n",
      "Requirement already satisfied: executing>=0.3.1 in c:\\users\\aoc\\anaconda3\\lib\\site-packages (from icecream) (0.5.2)\n",
      "Requirement already satisfied: colorama>=0.3.9 in c:\\users\\aoc\\anaconda3\\lib\\site-packages (from icecream) (0.4.3)\n",
      "Requirement already satisfied: pygments>=2.2.0 in c:\\users\\aoc\\anaconda3\\lib\\site-packages (from icecream) (2.6.1)\n",
      "Requirement already satisfied: six in c:\\users\\aoc\\anaconda3\\lib\\site-packages (from asttokens>=2.0.1->icecream) (1.15.0)\n",
      "Note: you may need to restart the kernel to use updated packages.\n"
     ]
    }
   ],
   "source": [
    "%pip install icecream"
   ]
  },
  {
   "cell_type": "code",
   "execution_count": 4,
   "metadata": {},
   "outputs": [],
   "source": [
    "from sklearn.metrics.pairwise import cosine_similarity # 计算余弦相似度"
   ]
  },
  {
   "cell_type": "markdown",
   "metadata": {},
   "source": [
    "## 1 加载数据 "
   ]
  },
  {
   "cell_type": "markdown",
   "metadata": {},
   "source": [
    "### 1.1 你先加载停用词"
   ]
  },
  {
   "cell_type": "code",
   "execution_count": 5,
   "metadata": {},
   "outputs": [],
   "source": [
    "with open('./Assignment/chinese_stopwords.txt','r',encoding='utf-8') as file:\n",
    "    # 直接file.readlines()得到的元素最后是换行符，用切片去掉后面的换行符\n",
    "    stopwords = [line[:-1] for line in file.readlines()]"
   ]
  },
  {
   "cell_type": "code",
   "execution_count": 6,
   "metadata": {},
   "outputs": [
    {
     "data": {
      "text/plain": [
       "['，', '的', '。', '、', '在', '了', '是', '\\u3000', '“', '”']"
      ]
     },
     "execution_count": 6,
     "metadata": {},
     "output_type": "execute_result"
    }
   ],
   "source": [
    "stopwords[:10]"
   ]
  },
  {
   "cell_type": "markdown",
   "metadata": {},
   "source": [
    "### 1.2 加载数据集"
   ]
  },
  {
   "cell_type": "code",
   "execution_count": 7,
   "metadata": {},
   "outputs": [
    {
     "name": "stdout",
     "output_type": "stream",
     "text": [
      "<class 'pandas.core.frame.DataFrame'>\n",
      "RangeIndex: 89611 entries, 0 to 89610\n",
      "Data columns (total 7 columns):\n",
      " #   Column   Non-Null Count  Dtype \n",
      "---  ------   --------------  ----- \n",
      " 0   id       89611 non-null  int64 \n",
      " 1   author   79396 non-null  object\n",
      " 2   source   89609 non-null  object\n",
      " 3   content  87054 non-null  object\n",
      " 4   feature  89611 non-null  object\n",
      " 5   title    89577 non-null  object\n",
      " 6   url      87144 non-null  object\n",
      "dtypes: int64(1), object(6)\n",
      "memory usage: 4.8+ MB\n"
     ]
    }
   ],
   "source": [
    "# gb18030编码收录的中文字符更全，对中文文档兼容性更好\n",
    "df = pd.read_csv('./Assignment/sqlResult.csv',encoding='gb18030')\n",
    "df.info()"
   ]
  },
  {
   "cell_type": "code",
   "execution_count": 8,
   "metadata": {},
   "outputs": [
    {
     "data": {
      "text/html": [
       "<div>\n",
       "<style scoped>\n",
       "    .dataframe tbody tr th:only-of-type {\n",
       "        vertical-align: middle;\n",
       "    }\n",
       "\n",
       "    .dataframe tbody tr th {\n",
       "        vertical-align: top;\n",
       "    }\n",
       "\n",
       "    .dataframe thead th {\n",
       "        text-align: right;\n",
       "    }\n",
       "</style>\n",
       "<table border=\"1\" class=\"dataframe\">\n",
       "  <thead>\n",
       "    <tr style=\"text-align: right;\">\n",
       "      <th></th>\n",
       "      <th>id</th>\n",
       "      <th>author</th>\n",
       "      <th>source</th>\n",
       "      <th>content</th>\n",
       "      <th>feature</th>\n",
       "      <th>title</th>\n",
       "      <th>url</th>\n",
       "    </tr>\n",
       "  </thead>\n",
       "  <tbody>\n",
       "    <tr>\n",
       "      <th>0</th>\n",
       "      <td>89617</td>\n",
       "      <td>NaN</td>\n",
       "      <td>快科技@http://www.kkj.cn/</td>\n",
       "      <td>此外，自本周（6月12日）起，除小米手机6等15款机型外，其余机型已暂停更新发布（含开发版/...</td>\n",
       "      <td>{\"type\":\"科技\",\"site\":\"cnbeta\",\"commentNum\":\"37\"...</td>\n",
       "      <td>小米MIUI 9首批机型曝光：共计15款</td>\n",
       "      <td>http://www.cnbeta.com/articles/tech/623597.htm</td>\n",
       "    </tr>\n",
       "    <tr>\n",
       "      <th>1</th>\n",
       "      <td>89616</td>\n",
       "      <td>NaN</td>\n",
       "      <td>快科技@http://www.kkj.cn/</td>\n",
       "      <td>骁龙835作为唯一通过Windows 10桌面平台认证的ARM处理器，高通强调，不会因为只考...</td>\n",
       "      <td>{\"type\":\"科技\",\"site\":\"cnbeta\",\"commentNum\":\"15\"...</td>\n",
       "      <td>骁龙835在Windows 10上的性能表现有望改善</td>\n",
       "      <td>http://www.cnbeta.com/articles/tech/623599.htm</td>\n",
       "    </tr>\n",
       "  </tbody>\n",
       "</table>\n",
       "</div>"
      ],
      "text/plain": [
       "      id author                  source  \\\n",
       "0  89617    NaN  快科技@http://www.kkj.cn/   \n",
       "1  89616    NaN  快科技@http://www.kkj.cn/   \n",
       "\n",
       "                                             content  \\\n",
       "0  此外，自本周（6月12日）起，除小米手机6等15款机型外，其余机型已暂停更新发布（含开发版/...   \n",
       "1  骁龙835作为唯一通过Windows 10桌面平台认证的ARM处理器，高通强调，不会因为只考...   \n",
       "\n",
       "                                             feature  \\\n",
       "0  {\"type\":\"科技\",\"site\":\"cnbeta\",\"commentNum\":\"37\"...   \n",
       "1  {\"type\":\"科技\",\"site\":\"cnbeta\",\"commentNum\":\"15\"...   \n",
       "\n",
       "                        title                                             url  \n",
       "0        小米MIUI 9首批机型曝光：共计15款  http://www.cnbeta.com/articles/tech/623597.htm  \n",
       "1  骁龙835在Windows 10上的性能表现有望改善  http://www.cnbeta.com/articles/tech/623599.htm  "
      ]
     },
     "execution_count": 8,
     "metadata": {},
     "output_type": "execute_result"
    }
   ],
   "source": [
    "df.head(2)"
   ]
  },
  {
   "cell_type": "markdown",
   "metadata": {},
   "source": [
    "## 2 数据预处理"
   ]
  },
  {
   "cell_type": "markdown",
   "metadata": {},
   "source": [
    "### 2.1 处理缺失值"
   ]
  },
  {
   "cell_type": "code",
   "execution_count": 9,
   "metadata": {},
   "outputs": [
    {
     "name": "stdout",
     "output_type": "stream",
     "text": [
      "<class 'pandas.core.frame.DataFrame'>\n",
      "Int64Index: 87052 entries, 0 to 89610\n",
      "Data columns (total 7 columns):\n",
      " #   Column   Non-Null Count  Dtype \n",
      "---  ------   --------------  ----- \n",
      " 0   id       87052 non-null  int64 \n",
      " 1   author   76925 non-null  object\n",
      " 2   source   87052 non-null  object\n",
      " 3   content  87052 non-null  object\n",
      " 4   feature  87052 non-null  object\n",
      " 5   title    87052 non-null  object\n",
      " 6   url      87052 non-null  object\n",
      "dtypes: int64(1), object(6)\n",
      "memory usage: 5.3+ MB\n"
     ]
    }
   ],
   "source": [
    "df.dropna(subset=['content'],inplace=True)\n",
    "df.dropna(subset=['source'],inplace=True)\n",
    "df.info()"
   ]
  },
  {
   "cell_type": "markdown",
   "metadata": {},
   "source": [
    "## 2.2 分词，使用jieba进行分词"
   ]
  },
  {
   "cell_type": "code",
   "execution_count": 10,
   "metadata": {},
   "outputs": [],
   "source": [
    "def split_text(text):\n",
    "    text = text.replace(' ', '').replace('\\n','').replace('\\r','')\n",
    "    text2 = jieba.cut(text.strip()) # strip()可以省略\n",
    "    # 去掉停用词\n",
    "    result = ' '.join([w for w in text2 if w not in stopwords])\n",
    "    return result"
   ]
  },
  {
   "cell_type": "code",
   "execution_count": 11,
   "metadata": {},
   "outputs": [
    {
     "data": {
      "text/plain": [
       "'此外，自本周（6月12日）起，除小米手机6等15款机型外，其余机型已暂停更新发布（含开发版/体验版内测，稳定版暂不受影响），以确保工程师可以集中全部精力进行系统优化工作。有人猜测这也是将精力主要用到MIUI 9的研发之中。\\r\\nMIUI 8去年5月发布，距今已有一年有余，也是时候更新换代了。\\r\\n当然，关于MIUI 9的确切信息，我们还是等待官方消息。\\r\\n'"
      ]
     },
     "execution_count": 11,
     "metadata": {},
     "output_type": "execute_result"
    }
   ],
   "source": [
    "temp = df.iloc[0].content\n",
    "temp"
   ]
  },
  {
   "cell_type": "code",
   "execution_count": 12,
   "metadata": {},
   "outputs": [
    {
     "name": "stderr",
     "output_type": "stream",
     "text": [
      "Building prefix dict from the default dictionary ...\n",
      "Loading model from cache C:\\Users\\AOC\\AppData\\Local\\Temp\\jieba.cache\n",
      "Loading model cost 0.706 seconds.\n",
      "Prefix dict has been built successfully.\n"
     ]
    },
    {
     "data": {
      "text/plain": [
       "'此外 本周 除 小米 手机 款 机型 外 机型 暂停 更新 发布 含 开发 版 体验版 内测 稳定版 暂不受 影响 确保 工程师 集中 全部 精力 进行 系统优化 工作 有人 猜测 精力 主要 用到 MIUI9 研发 之中 MIUI8 去年 发布 距今已有 一年 有余 更新换代 当然 MIUI9 确切 信息 等待 官方消息'"
      ]
     },
     "execution_count": 12,
     "metadata": {},
     "output_type": "execute_result"
    }
   ],
   "source": [
    "#分词结果\n",
    "split_text(temp)"
   ]
  },
  {
   "cell_type": "markdown",
   "metadata": {},
   "source": [
    "### 2.2.1 拆分查看函数步骤1"
   ]
  },
  {
   "cell_type": "code",
   "execution_count": 13,
   "metadata": {},
   "outputs": [
    {
     "data": {
      "text/plain": [
       "'此外，自本周（6月12日）起，除小米手机6等15款机型外，其余机型已暂停更新发布（含开发版/体验版内测，稳定版暂不受影响），以确保工程师可以集中全部精力进行系统优化工作。有人猜测这也是将精力主要用到MIUI9的研发之中。MIUI8去年5月发布，距今已有一年有余，也是时候更新换代了。当然，关于MIUI9的确切信息，我们还是等待官方消息。'"
      ]
     },
     "execution_count": 13,
     "metadata": {},
     "output_type": "execute_result"
    }
   ],
   "source": [
    "temp = temp.replace(' ', '').replace('\\n','').replace('\\r','')\n",
    "temp"
   ]
  },
  {
   "cell_type": "markdown",
   "metadata": {},
   "source": [
    "### 2.2.1 拆分查看函数步骤2"
   ]
  },
  {
   "cell_type": "code",
   "execution_count": 14,
   "metadata": {},
   "outputs": [
    {
     "data": {
      "text/plain": [
       "'此外 本周 除 小米 手机 款 机型 外 机型 暂停 更新 发布 含 开发 版 体验版 内测 稳定版 暂不受 影响 确保 工程师 集中 全部 精力 进行 系统优化 工作 有人 猜测 精力 主要 用到 MIUI9 研发 之中 MIUI8 去年 发布 距今已有 一年 有余 更新换代 当然 MIUI9 确切 信息 等待 官方消息'"
      ]
     },
     "execution_count": 14,
     "metadata": {},
     "output_type": "execute_result"
    }
   ],
   "source": [
    "' '.join([w for w in jieba.cut(temp) if w not in stopwords])"
   ]
  },
  {
   "cell_type": "markdown",
   "metadata": {},
   "source": [
    "### 2.2.3 对所有文本进行分词"
   ]
  },
  {
   "cell_type": "code",
   "execution_count": 15,
   "metadata": {},
   "outputs": [],
   "source": [
    "\n",
    "# 假如路径存在，则直接读取，否则进行分词，并保存到本地\n",
    "if os.path.exists('corpus.pkl'):\n",
    "    with open('corpus.pkl', 'rb') as file:\n",
    "        corpus = pickle.load(file)\n",
    "else:\n",
    "    corpus = df['content'].map(split_text)\n",
    "    # 保存到本地，方便下次读取\n",
    "    with open('corpus.pkl', 'wb') as file:\n",
    "        pickle.dump(corpus, file)"
   ]
  },
  {
   "cell_type": "code",
   "execution_count": 16,
   "metadata": {},
   "outputs": [
    {
     "data": {
      "text/plain": [
       "(87052,)"
      ]
     },
     "execution_count": 16,
     "metadata": {},
     "output_type": "execute_result"
    }
   ],
   "source": [
    "corpus.shape"
   ]
  },
  {
   "cell_type": "code",
   "execution_count": 17,
   "metadata": {},
   "outputs": [
    {
     "data": {
      "text/plain": [
       "45"
      ]
     },
     "execution_count": 17,
     "metadata": {},
     "output_type": "execute_result"
    }
   ],
   "source": [
    "type(corpus[0])\n",
    "len(set(corpus[0].split())) # 第一篇文章中有45个不重复的单词"
   ]
  },
  {
   "cell_type": "markdown",
   "metadata": {},
   "source": [
    "### 2.3 标记是否为自己的新闻"
   ]
  },
  {
   "cell_type": "code",
   "execution_count": 18,
   "metadata": {},
   "outputs": [
    {
     "data": {
      "text/plain": [
       "新华社                                                      78661\n",
       "中国新闻网                                                      523\n",
       "中国证券报?中证网                                                  510\n",
       "参考消息网                                                      385\n",
       "环球网                                                        308\n",
       "                                                         ...  \n",
       "游民星空@http://www.gamersky.com/news/201706/917721.shtml        1\n",
       "考拉网                                                          1\n",
       "时尚COSMO                                                      1\n",
       "天意足球                                                         1\n",
       "牛弹琴                                                          1\n",
       "Name: source, Length: 971, dtype: int64"
      ]
     },
     "execution_count": 18,
     "metadata": {},
     "output_type": "execute_result"
    }
   ],
   "source": [
    "df['source'].value_counts()"
   ]
  },
  {
   "cell_type": "code",
   "execution_count": 19,
   "metadata": {},
   "outputs": [],
   "source": [
    "# 默认深拷贝\n",
    "label = df['source'].copy()"
   ]
  },
  {
   "cell_type": "code",
   "execution_count": 20,
   "metadata": {},
   "outputs": [
    {
     "data": {
      "text/plain": [
       "78855"
      ]
     },
     "execution_count": 20,
     "metadata": {},
     "output_type": "execute_result"
    }
   ],
   "source": [
    "# 包含'新华'的样本有78855个\n",
    "label.str.contains('新华').sum()"
   ]
  },
  {
   "cell_type": "code",
   "execution_count": 21,
   "metadata": {},
   "outputs": [],
   "source": [
    "# series.str.contains() 返回布尔索引，用*1转为 0 1\n",
    "target = label.str.contains('新华') * 1"
   ]
  },
  {
   "cell_type": "code",
   "execution_count": 22,
   "metadata": {},
   "outputs": [
    {
     "data": {
      "text/plain": [
       "0    0\n",
       "1    0\n",
       "2    0\n",
       "3    1\n",
       "4    0\n",
       "Name: source, dtype: int32"
      ]
     },
     "execution_count": 22,
     "metadata": {},
     "output_type": "execute_result"
    }
   ],
   "source": [
    "target[:5]"
   ]
  },
  {
   "cell_type": "code",
   "execution_count": 23,
   "metadata": {},
   "outputs": [
    {
     "data": {
      "text/plain": [
       "0"
      ]
     },
     "execution_count": 23,
     "metadata": {},
     "output_type": "execute_result"
    }
   ],
   "source": [
    "# 确认下目标值无缺失值\n",
    "target.isnull().sum()"
   ]
  },
  {
   "cell_type": "markdown",
   "metadata": {},
   "source": [
    "# 3 计算逆向文档率TF-IDF矩阵"
   ]
  },
  {
   "cell_type": "code",
   "execution_count": 24,
   "metadata": {},
   "outputs": [
    {
     "data": {
      "text/plain": [
       "0        此外 本周 除 小米 手机 款 机型 外 机型 暂停 更新 发布 含 开发 版 体验版 内测...\n",
       "1        骁龙 835 唯一 Windows10 桌面 平台 认证 ARM 处理器 高通 强调 不会 ...\n",
       "2        此前 一加 3T 搭载 3400mAh 电池 DashCharge 快充 规格 5V 4A ...\n",
       "3        这是 18 葡萄牙 中部 佩德罗 冈 地区 拍摄 森林 大火 烧毁 汽车 新华社 记者 张立 云摄\n",
       "4        原 标题 44 岁 女子 跑 深圳 约会 网友 拒 暴雨 裸身 奔走 … … @ 深圳 交警...\n",
       "                               ...                        \n",
       "89606    新华社 照片 多伦多 2017 \\ n 体育 冰球 国家 女子 冰球队 海外 选秀 多伦多 ...\n",
       "89607    新华社 兰州 日电 王衡 徐丹 记者 甘肃省 交通运输 厅 获悉 甘肃 近日 集中 开建 高...\n",
       "89608    \\ n \\ n2017 29 法国巴黎 郊外 凡尔赛宫 法国 总统 马克 龙 出席 新闻 发...\n",
       "89609    \\ n \\ n2017 25 美国 马萨诸塞州 剑桥市 哈佛大学 毕业生 毕业典礼 欢呼 新...\n",
       "89610    新华社 德国 杜塞尔多夫 ６ ６ 日电 题 乒乓 女球迷 \\ n 新华社 记者 王子江 张寒...\n",
       "Name: content, Length: 87052, dtype: object"
      ]
     },
     "execution_count": 24,
     "metadata": {},
     "output_type": "execute_result"
    }
   ],
   "source": [
    "corpus"
   ]
  },
  {
   "cell_type": "markdown",
   "metadata": {},
   "source": [
    "## 3.1 先计算词频TF"
   ]
  },
  {
   "cell_type": "code",
   "execution_count": 25,
   "metadata": {},
   "outputs": [],
   "source": [
    "from icecream import ic"
   ]
  },
  {
   "cell_type": "code",
   "execution_count": 26,
   "metadata": {},
   "outputs": [],
   "source": [
    "# 实例化一个统计每个关键词出现的次数的转换器\n",
    "# 某词语的文档频率DF低于该阈值将会被删除\n",
    "countvectorizer = CountVectorizer(encoding='gb18030',min_df=0.015)"
   ]
  },
  {
   "cell_type": "code",
   "execution_count": 27,
   "metadata": {},
   "outputs": [],
   "source": [
    "# 通过fit_transform函数将文本中的关键词转换为词频稀疏矩阵\n",
    "countvector = countvectorizer.fit_transform(corpus)"
   ]
  },
  {
   "cell_type": "code",
   "execution_count": 28,
   "metadata": {},
   "outputs": [
    {
     "name": "stderr",
     "output_type": "stream",
     "text": [
      "ic| type(countvector): <class 'scipy.sparse.csr.csr_matrix'>\n"
     ]
    },
    {
     "name": "stdout",
     "output_type": "stream",
     "text": [
      "  (0, 590)\t1\n",
      "  (0, 461)\t1\n",
      "  (0, 271)\t2\n",
      "  (0, 416)\t1\n",
      "  (0, 432)\t1\n",
      "  (0, 669)\t1\n",
      "  (0, 860)\t1\n",
      "  (0, 184)\t1\n",
      "  (0, 822)\t1\n",
      "  (0, 385)\t1\n",
      "  (0, 103)\t1\n",
      "  (0, 667)\t1\n",
      "  (0, 263)\t1\n",
      "  (0, 44)\t1\n",
      "  (0, 174)\t1\n"
     ]
    }
   ],
   "source": [
    "ic(type(countvector))\n",
    "countvector.shape\n",
    "print(countvector[:1])"
   ]
  },
  {
   "cell_type": "code",
   "execution_count": 29,
   "metadata": {},
   "outputs": [
    {
     "data": {
      "text/plain": [
       "(87052, 884)"
      ]
     },
     "execution_count": 29,
     "metadata": {},
     "output_type": "execute_result"
    }
   ],
   "source": [
    "# 将稀疏矩阵转为数组，稀疏矩阵与数组shape相同，只是展示形式不同\n",
    "countvector_arr = countvector.toarray()\n",
    "countvector_arr.shape"
   ]
  },
  {
   "cell_type": "code",
   "execution_count": 30,
   "metadata": {},
   "outputs": [
    {
     "data": {
      "text/plain": [
       "2"
      ]
     },
     "execution_count": 30,
     "metadata": {},
     "output_type": "execute_result"
    }
   ],
   "source": [
    "# a[i][j] 表示j词在第i个文本下的词频。即各个词语出现的次数\n",
    "countvector_arr[0][271]"
   ]
  },
  {
   "cell_type": "code",
   "execution_count": 31,
   "metadata": {},
   "outputs": [
    {
     "data": {
      "text/plain": [
       "(884,)"
      ]
     },
     "execution_count": 31,
     "metadata": {},
     "output_type": "execute_result"
    }
   ],
   "source": [
    "# 第一个样本\n",
    "countvector_arr[0].shape"
   ]
  },
  {
   "cell_type": "code",
   "execution_count": 32,
   "metadata": {},
   "outputs": [
    {
     "data": {
      "text/plain": [
       "16"
      ]
     },
     "execution_count": 32,
     "metadata": {},
     "output_type": "execute_result"
    }
   ],
   "source": [
    "countvector_arr[0].sum()"
   ]
  },
  {
   "cell_type": "code",
   "execution_count": 33,
   "metadata": {},
   "outputs": [
    {
     "data": {
      "text/plain": [
       "array([1, 1, 1, 1, 1, 2, 1, 1, 1, 1, 1, 1, 1, 1, 1], dtype=int64)"
      ]
     },
     "execution_count": 33,
     "metadata": {},
     "output_type": "execute_result"
    }
   ],
   "source": [
    "# 与稀疏矩阵的结果相同\n",
    "countvector_arr[0][countvector_arr[0] >= 1]"
   ]
  },
  {
   "cell_type": "markdown",
   "metadata": {},
   "source": [
    "### 3.1.1 熟悉CountVectorizer实例的属性和方法"
   ]
  },
  {
   "cell_type": "markdown",
   "metadata": {},
   "source": [
    "#### 3.1.1 vocabulary_所有文本的关键词和特征索引的映射字典"
   ]
  },
  {
   "cell_type": "code",
   "execution_count": 34,
   "metadata": {},
   "outputs": [
    {
     "data": {
      "text/plain": [
       "884"
      ]
     },
     "execution_count": 34,
     "metadata": {},
     "output_type": "execute_result"
    }
   ],
   "source": [
    "words_indices = countvectorizer.vocabulary_\n",
    "len(words_indices)"
   ]
  },
  {
   "cell_type": "code",
   "execution_count": 35,
   "metadata": {},
   "outputs": [
    {
     "name": "stderr",
     "output_type": "stream",
     "text": [
      "ic| type(words_indices): <class 'dict'>\n"
     ]
    },
    {
     "data": {
      "text/plain": [
       "[('此外', 590), ('手机', 461), ('发布', 271), ('开发', 416)]"
      ]
     },
     "execution_count": 35,
     "metadata": {},
     "output_type": "execute_result"
    }
   ],
   "source": [
    "ic(type(words_indices))\n",
    "list(words_indices.items())[:4]"
   ]
  },
  {
   "cell_type": "code",
   "execution_count": 36,
   "metadata": {},
   "outputs": [
    {
     "data": {
      "text/plain": [
       "[('首次', 879), ('首轮', 880), ('首都', 881), ('香港', 882), ('鼓励', 883)]"
      ]
     },
     "execution_count": 36,
     "metadata": {},
     "output_type": "execute_result"
    }
   ],
   "source": [
    "# 字典按value(特征索引号)升序排序\n",
    "words_indices = sorted(words_indices.items(),key=lambda x: x[1], reverse=False)\n",
    "# 特征索引号\n",
    "words_indices[-5:]"
   ]
  },
  {
   "cell_type": "markdown",
   "metadata": {},
   "source": [
    "#### 3.1.1.2 get_feature_names()获得所有文本的关键词列表"
   ]
  },
  {
   "cell_type": "code",
   "execution_count": 37,
   "metadata": {},
   "outputs": [],
   "source": [
    "feature_names = countvectorizer.get_feature_names()"
   ]
  },
  {
   "cell_type": "code",
   "execution_count": 38,
   "metadata": {},
   "outputs": [
    {
     "name": "stderr",
     "output_type": "stream",
     "text": [
      "ic| len(feature_names): 884\n",
      "ic| type(feature_names): <class 'list'>\n"
     ]
    },
    {
     "data": {
      "text/plain": [
       "['100', '13', '14', '16', '17']"
      ]
     },
     "execution_count": 38,
     "metadata": {},
     "output_type": "execute_result"
    }
   ],
   "source": [
    "ic(len(feature_names))\n",
    "ic(type(feature_names))\n",
    "feature_names[:5]"
   ]
  },
  {
   "cell_type": "code",
   "execution_count": 39,
   "metadata": {},
   "outputs": [
    {
     "data": {
      "text/plain": [
       "['首次', '首轮', '首都', '香港', '鼓励']"
      ]
     },
     "execution_count": 39,
     "metadata": {},
     "output_type": "execute_result"
    }
   ],
   "source": [
    "# 可见关键词默认按特征索引号升序排序\n",
    "feature_names[-5:]"
   ]
  },
  {
   "cell_type": "markdown",
   "metadata": {},
   "source": [
    "#### 3.1.1.3 stop_words_停用词"
   ]
  },
  {
   "cell_type": "markdown",
   "metadata": {},
   "source": [
    "#### 可以看到自动停用的词很多，对于结巴分词的原理和依据，待学习"
   ]
  },
  {
   "cell_type": "code",
   "execution_count": 40,
   "metadata": {},
   "outputs": [],
   "source": [
    "stop_wds = countvectorizer.stop_words_"
   ]
  },
  {
   "cell_type": "code",
   "execution_count": 41,
   "metadata": {},
   "outputs": [
    {
     "name": "stderr",
     "output_type": "stream",
     "text": [
      "ic| len(stop_wds): 242520\n",
      "ic| type(stop_wds): <class 'set'>\n"
     ]
    },
    {
     "data": {
      "text/plain": [
       "['马姆', '蒙宫', '自准', '兑付', '540kstromlinienwagenw29']"
      ]
     },
     "execution_count": 41,
     "metadata": {},
     "output_type": "execute_result"
    }
   ],
   "source": [
    "ic(len(stop_wds))\n",
    "ic(type(stop_wds))\n",
    "# set对象不能切片提取，所以转为列表\n",
    "list(stop_wds)[:5]"
   ]
  },
  {
   "cell_type": "markdown",
   "metadata": {},
   "source": [
    "### 3.2 将词频矩阵转为TF-IDF矩阵"
   ]
  },
  {
   "cell_type": "code",
   "execution_count": 42,
   "metadata": {},
   "outputs": [],
   "source": [
    "# 实例化一个将词频矩阵转为TF-IDF矩阵的实例\n",
    "tfidftransformer = TfidfTransformer()"
   ]
  },
  {
   "cell_type": "code",
   "execution_count": 43,
   "metadata": {},
   "outputs": [
    {
     "data": {
      "text/plain": [
       "TfidfTransformer()"
      ]
     },
     "execution_count": 43,
     "metadata": {},
     "output_type": "execute_result"
    }
   ],
   "source": [
    "tfidftransformer"
   ]
  },
  {
   "cell_type": "code",
   "execution_count": 44,
   "metadata": {},
   "outputs": [],
   "source": [
    "# 拟合后返回tfidf稀疏矩阵\n",
    "tfidf = tfidftransformer.fit_transform(countvector)"
   ]
  },
  {
   "cell_type": "code",
   "execution_count": 45,
   "metadata": {},
   "outputs": [
    {
     "name": "stderr",
     "output_type": "stream",
     "text": [
      "ic| type(tfidf): <class 'scipy.sparse.csr.csr_matrix'>\n"
     ]
    },
    {
     "name": "stdout",
     "output_type": "stream",
     "text": [
      "  (0, 860)\t0.2674007239601568\n",
      "  (0, 822)\t0.15081444348966608\n",
      "  (0, 669)\t0.2671380200521529\n",
      "  (0, 667)\t0.28309620126453316\n",
      "  (0, 590)\t0.2377411770105167\n",
      "  (0, 461)\t0.28783155518886216\n",
      "  (0, 432)\t0.21737704053822574\n",
      "  (0, 416)\t0.2635573764739399\n",
      "  (0, 385)\t0.18500978673205756\n",
      "  (0, 271)\t0.4315609902828978\n",
      "  (0, 263)\t0.22918780918486897\n",
      "  (0, 184)\t0.2468108139475762\n",
      "  (0, 174)\t0.23459189038564443\n",
      "  (0, 103)\t0.20106899736814415\n",
      "  (0, 44)\t0.2622676107691569\n"
     ]
    }
   ],
   "source": [
    "ic(type(tfidf))\n",
    "print(tfidf[0])"
   ]
  },
  {
   "cell_type": "code",
   "execution_count": 46,
   "metadata": {},
   "outputs": [
    {
     "name": "stderr",
     "output_type": "stream",
     "text": [
      "ic| type(tfidftransformer.idf_): <class 'numpy.ndarray'>\n",
      "ic| tfidftransformer.idf_.shape: (884,)\n"
     ]
    },
    {
     "data": {
      "text/plain": [
       "array([4.52300041, 3.66596311, 3.71488545, 3.73787497, 3.77016784])"
      ]
     },
     "execution_count": 46,
     "metadata": {},
     "output_type": "execute_result"
    }
   ],
   "source": [
    "# 所有词汇的逆向稳定率idf\n",
    "ic(type(tfidftransformer.idf_))\n",
    "ic(tfidftransformer.idf_.shape)\n",
    "tfidftransformer.idf_[:5]"
   ]
  },
  {
   "cell_type": "markdown",
   "metadata": {},
   "source": [
    "### 4 拆分数据集"
   ]
  },
  {
   "cell_type": "code",
   "execution_count": 47,
   "metadata": {},
   "outputs": [
    {
     "data": {
      "text/plain": [
       "((69641, 884), (17411, 884), (69641,), (17411,))"
      ]
     },
     "execution_count": 47,
     "metadata": {},
     "output_type": "execute_result"
    }
   ],
   "source": [
    "x_train,x_test,y_train,y_test = train_test_split(tfidf.toarray(),target,test_size=0.2)\n",
    "x_train.shape,x_test.shape,y_train.shape,y_test.shape"
   ]
  },
  {
   "cell_type": "markdown",
   "metadata": {},
   "source": [
    "## 5 MultinomialNB训练并预测文本风格\n",
    "#### 从中筛选出与自己风格一直的样本"
   ]
  },
  {
   "cell_type": "markdown",
   "metadata": {},
   "source": [
    "## 5.1 实例化评估器"
   ]
  },
  {
   "cell_type": "code",
   "execution_count": 48,
   "metadata": {},
   "outputs": [
    {
     "data": {
      "text/plain": [
       "MultinomialNB()"
      ]
     },
     "execution_count": 48,
     "metadata": {},
     "output_type": "execute_result"
    }
   ],
   "source": [
    "estimator = MultinomialNB()\n",
    "estimator"
   ]
  },
  {
   "cell_type": "markdown",
   "metadata": {},
   "source": [
    "## 5.2 训练模型"
   ]
  },
  {
   "cell_type": "code",
   "execution_count": 49,
   "metadata": {},
   "outputs": [
    {
     "data": {
      "text/plain": [
       "MultinomialNB()"
      ]
     },
     "execution_count": 49,
     "metadata": {},
     "output_type": "execute_result"
    }
   ],
   "source": [
    "estimator.fit(x_train,y_train)"
   ]
  },
  {
   "cell_type": "markdown",
   "metadata": {},
   "source": [
    "## 5.3 探索实例属性"
   ]
  },
  {
   "cell_type": "code",
   "execution_count": 50,
   "metadata": {},
   "outputs": [
    {
     "data": {
      "text/plain": [
       "array([0, 1])"
      ]
     },
     "execution_count": 50,
     "metadata": {},
     "output_type": "execute_result"
    }
   ],
   "source": [
    "# 二分类\n",
    "estimator.classes_"
   ]
  },
  {
   "cell_type": "code",
   "execution_count": 51,
   "metadata": {},
   "outputs": [
    {
     "data": {
      "text/plain": [
       "array([ 6522., 63119.])"
      ]
     },
     "execution_count": 51,
     "metadata": {},
     "output_type": "execute_result"
    }
   ],
   "source": [
    "# 二分类中0的样本数6616, 1的样本数63025\n",
    "estimator.class_count_"
   ]
  },
  {
   "cell_type": "code",
   "execution_count": 52,
   "metadata": {},
   "outputs": [
    {
     "name": "stderr",
     "output_type": "stream",
     "text": [
      "ic| estimator.feature_count_.shape: (2, 884)\n"
     ]
    },
    {
     "data": {
      "text/plain": [
       "57.16806222811331"
      ]
     },
     "execution_count": 52,
     "metadata": {},
     "output_type": "execute_result"
    }
   ],
   "source": [
    "# 拟合过程中每个(类、特征)遇到的样本数\n",
    "ic(estimator.feature_count_.shape)\n",
    "estimator.feature_count_[0, 0]"
   ]
  },
  {
   "cell_type": "code",
   "execution_count": 53,
   "metadata": {},
   "outputs": [
    {
     "data": {
      "text/plain": [
       "303250.8414752567"
      ]
     },
     "execution_count": 53,
     "metadata": {},
     "output_type": "execute_result"
    }
   ],
   "source": [
    "estimator.feature_count_.sum()"
   ]
  },
  {
   "cell_type": "code",
   "execution_count": 54,
   "metadata": {},
   "outputs": [
    {
     "data": {
      "text/plain": [
       "884"
      ]
     },
     "execution_count": 54,
     "metadata": {},
     "output_type": "execute_result"
    }
   ],
   "source": [
    "# 特征数\n",
    "estimator.n_features_"
   ]
  },
  {
   "cell_type": "markdown",
   "metadata": {},
   "source": [
    "## 5.4 评估模型"
   ]
  },
  {
   "cell_type": "code",
   "execution_count": 55,
   "metadata": {},
   "outputs": [
    {
     "name": "stdout",
     "output_type": "stream",
     "text": [
      "              precision    recall  f1-score   support\n",
      "\n",
      "      others       0.43      0.66      0.53      1675\n",
      "          新华       0.96      0.91      0.93     15736\n",
      "\n",
      "    accuracy                           0.88     17411\n",
      "   macro avg       0.70      0.79      0.73     17411\n",
      "weighted avg       0.91      0.88      0.89     17411\n",
      "\n"
     ]
    }
   ],
   "source": [
    "y_pred = estimator.predict(x_test)\n",
    "print(classification_report(y_test,y_pred,labels=[0,1],target_names=['others','新华']))"
   ]
  },
  {
   "cell_type": "markdown",
   "metadata": {},
   "source": [
    "accuracy表示整体准确度；                                                                               \n",
    "recall 表示命中率又称召回率，所有实际分类为1的客户中，被预测为1的客户所占的比例；(TPR=TP/(TP+FN))                              \n",
    "support 表示样本数，其中1581为实际分类0的样本数、15830为实际分类1的样本数、17411是测试集的全部样本数；                           \n",
    "precision 表示所有预测分类为1的样本中，实际为1的比例(TP/(TP+FP))；                                                   \n",
    "f1-score 混合度量，对不平衡类别比较有效 2TP /(2TP + FP + FN)；                                                     "
   ]
  },
  {
   "cell_type": "markdown",
   "metadata": {},
   "source": [
    "## 5.6 使用模型检测抄袭，预测风格"
   ]
  },
  {
   "cell_type": "markdown",
   "metadata": {},
   "source": [
    "compare_news_df中，prediction==1代表预测文章的风格是新华社风格；labels==1说明实际为新华社"
   ]
  },
  {
   "cell_type": "code",
   "execution_count": 56,
   "metadata": {},
   "outputs": [
    {
     "data": {
      "text/plain": [
       "array([0, 0, 0, ..., 1, 1, 1])"
      ]
     },
     "execution_count": 56,
     "metadata": {},
     "output_type": "execute_result"
    }
   ],
   "source": [
    "prediction = estimator.predict(tfidf.toarray())\n",
    "prediction"
   ]
  },
  {
   "cell_type": "code",
   "execution_count": 57,
   "metadata": {},
   "outputs": [
    {
     "data": {
      "text/html": [
       "<div>\n",
       "<style scoped>\n",
       "    .dataframe tbody tr th:only-of-type {\n",
       "        vertical-align: middle;\n",
       "    }\n",
       "\n",
       "    .dataframe tbody tr th {\n",
       "        vertical-align: top;\n",
       "    }\n",
       "\n",
       "    .dataframe thead th {\n",
       "        text-align: right;\n",
       "    }\n",
       "</style>\n",
       "<table border=\"1\" class=\"dataframe\">\n",
       "  <thead>\n",
       "    <tr style=\"text-align: right;\">\n",
       "      <th></th>\n",
       "      <th>prediction</th>\n",
       "      <th>labels</th>\n",
       "    </tr>\n",
       "  </thead>\n",
       "  <tbody>\n",
       "    <tr>\n",
       "      <th>0</th>\n",
       "      <td>0</td>\n",
       "      <td>0</td>\n",
       "    </tr>\n",
       "    <tr>\n",
       "      <th>1</th>\n",
       "      <td>0</td>\n",
       "      <td>0</td>\n",
       "    </tr>\n",
       "  </tbody>\n",
       "</table>\n",
       "</div>"
      ],
      "text/plain": [
       "   prediction  labels\n",
       "0           0       0\n",
       "1           0       0"
      ]
     },
     "execution_count": 57,
     "metadata": {},
     "output_type": "execute_result"
    }
   ],
   "source": [
    "# 构建SataFrame\n",
    "compare_news_df = pd.DataFrame({\"prediction\":prediction,'labels':target.values})\n",
    "compare_news_df.head(2)"
   ]
  },
  {
   "cell_type": "code",
   "execution_count": 58,
   "metadata": {},
   "outputs": [
    {
     "data": {
      "text/html": [
       "<div>\n",
       "<style scoped>\n",
       "    .dataframe tbody tr th:only-of-type {\n",
       "        vertical-align: middle;\n",
       "    }\n",
       "\n",
       "    .dataframe tbody tr th {\n",
       "        vertical-align: top;\n",
       "    }\n",
       "\n",
       "    .dataframe thead th {\n",
       "        text-align: right;\n",
       "    }\n",
       "</style>\n",
       "<table border=\"1\" class=\"dataframe\">\n",
       "  <thead>\n",
       "    <tr style=\"text-align: right;\">\n",
       "      <th></th>\n",
       "      <th>prediction</th>\n",
       "      <th>labels</th>\n",
       "    </tr>\n",
       "  </thead>\n",
       "  <tbody>\n",
       "    <tr>\n",
       "      <th>4</th>\n",
       "      <td>1</td>\n",
       "      <td>0</td>\n",
       "    </tr>\n",
       "    <tr>\n",
       "      <th>24</th>\n",
       "      <td>1</td>\n",
       "      <td>0</td>\n",
       "    </tr>\n",
       "  </tbody>\n",
       "</table>\n",
       "</div>"
      ],
      "text/plain": [
       "    prediction  labels\n",
       "4            1       0\n",
       "24           1       0"
      ]
     },
     "execution_count": 58,
     "metadata": {},
     "output_type": "execute_result"
    }
   ],
   "source": [
    "# 在实际非新华社的文章中找出预测为新华社风格的文章\n",
    "copy_news_index = compare_news_df[(compare_news_df['labels'] == 0) & (compare_news_df['prediction'] == 1)]\n",
    "copy_news_index.head(2)"
   ]
  },
  {
   "cell_type": "code",
   "execution_count": 59,
   "metadata": {},
   "outputs": [
    {
     "data": {
      "text/plain": [
       "'可能为copy新闻条数:2789'"
      ]
     },
     "execution_count": 59,
     "metadata": {},
     "output_type": "execute_result"
    }
   ],
   "source": [
    "\"可能为copy新闻条数:{}\".format(len(copy_news_index))"
   ]
  },
  {
   "cell_type": "code",
   "execution_count": 60,
   "metadata": {},
   "outputs": [
    {
     "data": {
      "text/html": [
       "<div>\n",
       "<style scoped>\n",
       "    .dataframe tbody tr th:only-of-type {\n",
       "        vertical-align: middle;\n",
       "    }\n",
       "\n",
       "    .dataframe tbody tr th {\n",
       "        vertical-align: top;\n",
       "    }\n",
       "\n",
       "    .dataframe thead th {\n",
       "        text-align: right;\n",
       "    }\n",
       "</style>\n",
       "<table border=\"1\" class=\"dataframe\">\n",
       "  <thead>\n",
       "    <tr style=\"text-align: right;\">\n",
       "      <th></th>\n",
       "      <th>prediction</th>\n",
       "      <th>labels</th>\n",
       "    </tr>\n",
       "  </thead>\n",
       "  <tbody>\n",
       "    <tr>\n",
       "      <th>4</th>\n",
       "      <td>1</td>\n",
       "      <td>0</td>\n",
       "    </tr>\n",
       "    <tr>\n",
       "      <th>24</th>\n",
       "      <td>1</td>\n",
       "      <td>0</td>\n",
       "    </tr>\n",
       "    <tr>\n",
       "      <th>28</th>\n",
       "      <td>1</td>\n",
       "      <td>0</td>\n",
       "    </tr>\n",
       "    <tr>\n",
       "      <th>30</th>\n",
       "      <td>1</td>\n",
       "      <td>0</td>\n",
       "    </tr>\n",
       "    <tr>\n",
       "      <th>32</th>\n",
       "      <td>1</td>\n",
       "      <td>0</td>\n",
       "    </tr>\n",
       "  </tbody>\n",
       "</table>\n",
       "</div>"
      ],
      "text/plain": [
       "    prediction  labels\n",
       "4            1       0\n",
       "24           1       0\n",
       "28           1       0\n",
       "30           1       0\n",
       "32           1       0"
      ]
     },
     "execution_count": 60,
     "metadata": {},
     "output_type": "execute_result"
    }
   ],
   "source": [
    "copy_news_index[:5]"
   ]
  },
  {
   "cell_type": "code",
   "execution_count": 61,
   "metadata": {},
   "outputs": [
    {
     "data": {
      "text/plain": [
       "Int64Index([    3,    17,    25,    27,    39,    51,    65,    95,   102,\n",
       "              111,\n",
       "            ...\n",
       "            87042, 87043, 87044, 87045, 87046, 87047, 87048, 87049, 87050,\n",
       "            87051],\n",
       "           dtype='int64', length=78855)"
      ]
     },
     "execution_count": 61,
     "metadata": {},
     "output_type": "execute_result"
    }
   ],
   "source": [
    "# 实际为新华社的新闻的 index\n",
    "xinhuashe_news_index = compare_news_df[compare_news_df['labels'] == 1].index\n",
    "xinhuashe_news_index"
   ]
  },
  {
   "cell_type": "code",
   "execution_count": 62,
   "metadata": {},
   "outputs": [
    {
     "data": {
      "text/plain": [
       "Int64Index([   0,    1,    2,    4,    5,    6,    7,    8,    9,   10,\n",
       "            ...\n",
       "            8544, 8545, 8546, 8547, 8548, 8549, 8550, 8551, 8552, 8553],\n",
       "           dtype='int64', length=8197)"
      ]
     },
     "execution_count": 62,
     "metadata": {},
     "output_type": "execute_result"
    }
   ],
   "source": [
    "# 实际不是新华社的新闻的 index\n",
    "no_xinhuashe_news_index = compare_news_df[compare_news_df['labels'] == 0].index\n",
    "no_xinhuashe_news_index"
   ]
  },
  {
   "cell_type": "markdown",
   "metadata": {},
   "source": [
    "#### 在87052则新闻中，有8197则新闻实际不是新华社发布的，但我们的模型识别出这8179则新闻中有2777则新闻和新华社风格相似，属于疑似抄袭新华社的新闻。"
   ]
  },
  {
   "cell_type": "markdown",
   "metadata": {},
   "source": [
    "## 6 使用K-Means对文章进行聚类"
   ]
  },
  {
   "cell_type": "markdown",
   "metadata": {},
   "source": [
    "### 6.1 学习Normalizer范式归一化"
   ]
  },
  {
   "cell_type": "markdown",
   "metadata": {},
   "source": [
    "#### 6.1.1 余弦距离与欧式距离"
   ]
  },
  {
   "cell_type": "markdown",
   "metadata": {},
   "source": [
    "欧氏距离衡量的是空间各点的绝对距离，跟各个点所在的位置坐标直接相关；                                                                          \n",
    "\n",
    "而余弦距离衡量的是空间向量的夹角，更加体现在方向上的差异，而不是位置。                                                                        \n",
    "\n",
    "sklearn中的k-means算法只支持欧氏距离计算相似度                                                                                                \n",
    "在文本的相似度比较中我们一般使用余弦距离。                                                                                                      \n",
    "\n",
    "余弦相似度，就是计算两个向量间的夹角的余弦值。                                                                                               \n",
    "\n",
    "余弦相似度通常用于正空间, 因此一般的取值范围为[0,1]。                                                                                         \n",
    "\n",
    "余弦距离就是用1减去这个获得的余弦相似度。$余弦距离=1 - 余弦相似度$                                                                           \n",
    "\n",
    "余弦距离的取值范围为[0,2]。                                                                                                                  \n",
    "\n",
    "<font color=red >说明：两个向量的模长=1时，其欧式距离和余弦距离是等价的                                                                      "
   ]
  },
  {
   "cell_type": "markdown",
   "metadata": {},
   "source": [
    "#### 推导过程：                                                                                                                                    \n",
    "                                                                                                                                               \n",
    "假设两个点：A(x1,y1), B(x2,y2)                                                                                                                                 \n",
    "归一化为单位向量：$$A(\\frac{x_1}{\\sqrt{x_{1}^2 + y_{1}^2}}, \\frac{y_1}{\\sqrt{x_{1}^2 + y_{1}^2}})$$$$B(\\frac{x_2}{\\sqrt{x_{2}^2 + y_{2}^2}}, \\frac{y_2}{\\sqrt{x_{2}^2 + y_{2}^2}})$$\n",
    "那么余弦相似度(余弦相似度是通过测量两个向量之间的夹角的余弦值来度量他们之间的一个相似度):                                                                                      \n",
    "$$cos = \\frac{x_1}{\\sqrt{x_{1}^2 + y_{1}^2}} * \\frac{y_1}{\\sqrt{x_{1}^2 + y_{1}^2}} + \\frac{x_2}{\\sqrt{x_{2}^2 + y_{2}^2}} * \\frac{y_2}{\\sqrt{x_{2}^2 + y_{2}^2}}$$\n",
    "欧式距离$$edu = \\sqrt{(\\frac{x_1}{\\sqrt{x_{1}^2 + y_{1}^2}} - \\frac{y_1}{\\sqrt{x_{1}^2 + y_{1}^2}})^2 + (\\frac{x_2}{\\sqrt{x_{2}^2 + y_{2}^2}} - \\frac{y_2}{\\sqrt{x_{2}^2 + y_{2}^2}})^2}$$化简后可以得欧氏距离为：\n",
    "$$edu = \\sqrt{2-2cos} = \\sqrt{2(1 - cos(A,B))}$$\n",
    "$edu=\\sqrt{2(余弦距离)}$\n",
    "                                                                                                                                                                            \n",
    "当向量的模长是经过L2范式归一化的，此时欧氏距离与余弦距离有着单调的关系。因此：可以看成等价。                                                                                        \n",
    "                                                                                                                                                                                \n",
    "#### 欧氏距离和余弦距离各自有不同的计算方式和衡量特征，因此它们适用于不同的数据分析模型：                                                                                        \n",
    "欧氏距离能够体现个体数值特征的绝对差异，所以更多的用于需要从维度的数值大小中体现差异的分析，如使用用户行为指标分析用户价值的相似度或差异。                                                                                        \n",
    "                                                                                                                                                                                \n",
    "余弦距离更多的是从方向上区分差异，而对绝对的数值不敏感，更多的用于使用用户对内容评分来区分兴趣的相似度和差异，同时修正了用户间可能存在的度量标准不统一的问题（因为余弦距离对绝对数值不敏感）。\n",
    "                                                                                                                                                                                \n",
    "注：在CNNs中，对特征向量进行L2范数归一化后，欧式距离和余弦距离可以等价。                                                                                        "
   ]
  },
  {
   "cell_type": "code",
   "execution_count": 63,
   "metadata": {},
   "outputs": [
    {
     "name": "stderr",
     "output_type": "stream",
     "text": [
      "C:\\Users\\AOC\\anaconda3\\lib\\site-packages\\matplotlib\\backends\\backend_agg.py:238: RuntimeWarning: Glyph 26354 missing from current font.\n",
      "  font.set_text(s, 0.0, flags=flags)\n",
      "C:\\Users\\AOC\\anaconda3\\lib\\site-packages\\matplotlib\\backends\\backend_agg.py:238: RuntimeWarning: Glyph 32447 missing from current font.\n",
      "  font.set_text(s, 0.0, flags=flags)\n",
      "C:\\Users\\AOC\\anaconda3\\lib\\site-packages\\matplotlib\\backends\\backend_agg.py:201: RuntimeWarning: Glyph 26354 missing from current font.\n",
      "  font.set_text(s, 0, flags=flags)\n",
      "C:\\Users\\AOC\\anaconda3\\lib\\site-packages\\matplotlib\\backends\\backend_agg.py:201: RuntimeWarning: Glyph 32447 missing from current font.\n",
      "  font.set_text(s, 0, flags=flags)\n"
     ]
    },
    {
     "data": {
      "image/png": "[encoded data removed]",
      "text/plain": [
       "<Figure size 432x288 with 1 Axes>"
      ]
     },
     "metadata": {
      "needs_background": "light"
     },
     "output_type": "display_data"
    }
   ],
   "source": [
    "# 准备数据，x代表弧度\n",
    "x = np.random.normal(size=1000)\n",
    "# 升序排序\n",
    "x.sort()\n",
    "y = np.cos(x)\n",
    "\n",
    "# 绘制余弦曲线\n",
    "plt.plot(x,y)\n",
    "plt.grid()\n",
    "plt.title('cos(x)曲线')\n",
    "plt.show()"
   ]
  },
  {
   "cell_type": "markdown",
   "metadata": {},
   "source": [
    "\n",
    "#### 从余弦曲线可以看出：在[0°, 90°]之间，AB之间夹角越大, 余弦值越小。余弦距离(1-余弦相似度)就越大，则欧氏距离的平方(2×余弦距离)就越大。"
   ]
  },
  {
   "cell_type": "markdown",
   "metadata": {},
   "source": [
    "\n",
    "\n",
    "\n",
    "### 6.1.2 L2范式归一化——掉包及代码复现计算过程"
   ]
  },
  {
   "cell_type": "code",
   "execution_count": 64,
   "metadata": {},
   "outputs": [
    {
     "name": "stdout",
     "output_type": "stream",
     "text": [
      "[[0.8 0.2 0.4 0.4]\n",
      " [0.1 0.3 0.9 0.3]\n",
      " [0.5 0.7 0.5 0.1]]\n"
     ]
    }
   ],
   "source": [
    "x = np.array([[4,1,2,2],[1,3,9,3],[5,7,5,1]])\n",
    "# 默认是12范式\n",
    "norm_x = Normalizer().fit_transform(x)\n",
    "print(norm_x)"
   ]
  },
  {
   "cell_type": "code",
   "execution_count": 65,
   "metadata": {},
   "outputs": [
    {
     "name": "stdout",
     "output_type": "stream",
     "text": [
      "x:\n",
      " [[4 1 2 2]\n",
      " [1 3 9 3]\n",
      " [5 7 5 1]]\n",
      "norm_x:\n",
      " [[0.8 0.2 0.4 0.4]\n",
      " [0.1 0.3 0.9 0.3]\n",
      " [0.5 0.7 0.5 0.1]]\n"
     ]
    }
   ],
   "source": [
    "# 复现Normalizer的12范式归一化计算过程\n",
    "x = np.array([[4,1,2,2],[1,3,9,3],[5,7,5,1]])\n",
    "norm_x = []\n",
    "\n",
    "for i in range(len(x)):\n",
    "    row = x[i]\n",
    "    sum_row_sqrt = ((row ** 2).sum()) ** 0.5\n",
    "    temp = row / sum_row_sqrt\n",
    "    norm_x.append(temp)\n",
    "\n",
    "print('x:\\n', x)\n",
    "print('norm_x:\\n', np.array(norm_x))"
   ]
  },
  {
   "cell_type": "markdown",
   "metadata": {},
   "source": [
    "\n",
    "\n",
    "## 6.2 对全量文本的TF-IDF进行范式归一化"
   ]
  },
  {
   "cell_type": "markdown",
   "metadata": {},
   "source": [
    "\n",
    "\n",
    "#### 需要在使用k-means之前，tfidf矩阵normalize成单位长度(unit norm)，以便K-Means根据tf-idf进行聚类"
   ]
  },
  {
   "cell_type": "code",
   "execution_count": 66,
   "metadata": {},
   "outputs": [],
   "source": [
    "transfer = Normalizer()\n",
    "scaled_array = transfer.fit_transform(tfidf.toarray())"
   ]
  },
  {
   "cell_type": "code",
   "execution_count": 67,
   "metadata": {},
   "outputs": [
    {
     "name": "stderr",
     "output_type": "stream",
     "text": [
      "ic| type(scaled_array): <class 'numpy.ndarray'>\n"
     ]
    },
    {
     "data": {
      "text/plain": [
       "(87052, 884)"
      ]
     },
     "execution_count": 67,
     "metadata": {},
     "output_type": "execute_result"
    }
   ],
   "source": [
    "ic(type(scaled_array))\n",
    "scaled_array.shape"
   ]
  },
  {
   "cell_type": "markdown",
   "metadata": {},
   "source": [
    "\n",
    "\n",
    "## 6.3 对全量文本进行K-Means聚类"
   ]
  },
  {
   "cell_type": "markdown",
   "metadata": {},
   "source": [
    "\n",
    "\n",
    "#### 由于数据集较大，先用K-Means进行聚类降维，比如聚类成25堆。后面统计余弦相似度时，抄袭新闻只和自己堆里真实新闻进行计算，有效减少计算量。"
   ]
  },
  {
   "cell_type": "code",
   "execution_count": 68,
   "metadata": {},
   "outputs": [],
   "source": [
    "# 25是人工规定的桶的个数，把87052个样本按照距离分成25类\n",
    "estimator2 = KMeans(n_clusters=25)"
   ]
  },
  {
   "cell_type": "code",
   "execution_count": 69,
   "metadata": {},
   "outputs": [
    {
     "name": "stdout",
     "output_type": "stream",
     "text": [
      "Wall time: 1min 31s\n"
     ]
    },
    {
     "data": {
      "text/plain": [
       "KMeans(n_clusters=25)"
      ]
     },
     "execution_count": 69,
     "metadata": {},
     "output_type": "execute_result"
    }
   ],
   "source": [
    "%%time\n",
    "estimator2.fit(scaled_array)"
   ]
  },
  {
   "cell_type": "code",
   "execution_count": 70,
   "metadata": {},
   "outputs": [
    {
     "name": "stderr",
     "output_type": "stream",
     "text": [
      "ic| k_labels.shape: (87052,)\n"
     ]
    },
    {
     "data": {
      "text/plain": [
       "array([13, 13, 13,  2, 13])"
      ]
     },
     "execution_count": 70,
     "metadata": {},
     "output_type": "execute_result"
    }
   ],
   "source": [
    "k_labels = estimator2.predict(scaled_array)\n",
    "ic(k_labels.shape)\n",
    "k_labels[:5]"
   ]
  },
  {
   "cell_type": "markdown",
   "metadata": {},
   "source": [
    "\n",
    "\n",
    "## 6.4 建立聚类类别与实为新华社文章的index之间的映射关系"
   ]
  },
  {
   "cell_type": "markdown",
   "metadata": {},
   "source": [
    "#### 创建class_id字典的key是25个类别编号，字典的value是集合，储存的是实际为新华社文章的样本index。"
   ]
  },
  {
   "cell_type": "code",
   "execution_count": 71,
   "metadata": {},
   "outputs": [],
   "source": [
    "# 将预测的k_labels转为Series类型\n",
    "k_labels_sr = pd.Series(k_labels)"
   ]
  },
  {
   "cell_type": "code",
   "execution_count": 72,
   "metadata": {},
   "outputs": [
    {
     "name": "stderr",
     "output_type": "stream",
     "text": [
      "ic| type(k_labels_sr): <class 'pandas.core.series.Series'>\n"
     ]
    },
    {
     "data": {
      "text/plain": [
       "0    13\n",
       "1    13\n",
       "2    13\n",
       "3     2\n",
       "4    13\n",
       "dtype: int32"
      ]
     },
     "execution_count": 72,
     "metadata": {},
     "output_type": "execute_result"
    }
   ],
   "source": [
    "# id_class = {index: class_ for index, class_ in enumerate(k_labels)}\n",
    "\n",
    "ic(type(k_labels_sr))\n",
    "k_labels_sr[:5]"
   ]
  },
  {
   "cell_type": "code",
   "execution_count": 73,
   "metadata": {},
   "outputs": [],
   "source": [
    "class_id = defaultdict(set)\n",
    "\n",
    "# 调用Series的实例方法items()，返回(index, value)对的迭代器\n",
    "for index,value in k_labels_sr.items():\n",
    "    # 只统计实际是新华社的index\n",
    "    if index in xinhuashe_news_index:\n",
    "        class_id[value].add(index)"
   ]
  },
  {
   "cell_type": "code",
   "execution_count": 74,
   "metadata": {},
   "outputs": [
    {
     "data": {
      "text/plain": [
       "dict_keys([2, 13, 14, 22, 9, 16, 20, 0, 3, 12, 4, 24, 1, 10, 11, 5, 18, 21, 17, 8, 6, 19, 23, 15, 7])"
      ]
     },
     "execution_count": 74,
     "metadata": {},
     "output_type": "execute_result"
    }
   ],
   "source": [
    "# 字典的key是0~24的25个类别编号，字典的value是集合\n",
    "class_id.keys()"
   ]
  },
  {
   "cell_type": "code",
   "execution_count": 75,
   "metadata": {},
   "outputs": [
    {
     "name": "stderr",
     "output_type": "stream",
     "text": [
      "ic| type(class_id[12]): <class 'set'>\n"
     ]
    },
    {
     "data": {
      "text/plain": [
       "2356"
      ]
     },
     "execution_count": 75,
     "metadata": {},
     "output_type": "execute_result"
    }
   ],
   "source": [
    "ic(type(class_id[12]))\n",
    "len(class_id[12])"
   ]
  },
  {
   "cell_type": "markdown",
   "metadata": {},
   "source": [
    "## 7 查看相似文章\n",
    "cosine_similarity(X, Y=None, dense_output=True)                                                               \n",
    "\n",
    "Y如果不为空，则X、Y的形状需要相同                                                                        \n",
    "dense_output:布尔值(可选)，默认为True，表示当输入是稀疏的时候是否返回稠密的输出。如果“False”，若两个输入数组都是稀疏的，则输出是稀疏的。   \n",
    "计算X和Y中样本之间的余弦相似度。                                                                         \n",
    "\n",
    "余弦相似度或余弦内核将相似度计算为X和Y的标准化点积：                                                                        \n",
    "\n",
    "$ K(X，Y)= &lt;X，Y&gt; / (|| X || * || Y ||)$                                                        \n",
    "\n",
    "在L2归一化的数据上，此函数等效于linear_kernel。                                                               "
   ]
  },
  {
   "cell_type": "code",
   "execution_count": 76,
   "metadata": {},
   "outputs": [
    {
     "data": {
      "text/plain": [
       "prediction    1\n",
       "labels        0\n",
       "Name: 3352, dtype: int32"
      ]
     },
     "execution_count": 76,
     "metadata": {},
     "output_type": "execute_result"
    }
   ],
   "source": [
    "\n",
    "# 在87052则新闻中，选择index为3352的这篇新闻，模型预测风格与新华社相似\n",
    "copy_news_index.loc[3352]"
   ]
  },
  {
   "cell_type": "code",
   "execution_count": 77,
   "metadata": {},
   "outputs": [
    {
     "name": "stdout",
     "output_type": "stream",
     "text": [
      "(1, 884)\n"
     ]
    }
   ],
   "source": [
    "print(tfidf[3352].shape)"
   ]
  },
  {
   "cell_type": "markdown",
   "metadata": {},
   "source": [
    "稀疏矩阵tfidf[3352]的数据:                                                                                 \n",
    "\n",
    "  (0, 823)    0.06610655545154177                                                                         \n",
    "  (0, 822)    0.019203123817457014                                                                       \n",
    " ...                                                                                             \n",
    "  (0, 11)    0.010484988229067377                                                                        \n",
    "  (0, 5)    0.026698833875343036                                                                         "
   ]
  },
  {
   "cell_type": "markdown",
   "metadata": {},
   "source": [
    "\n",
    "\n",
    "\n",
    "## 7.1 计算新闻之间的余弦相似度"
   ]
  },
  {
   "cell_type": "code",
   "execution_count": 79,
   "metadata": {},
   "outputs": [
    {
     "name": "stderr",
     "output_type": "stream",
     "text": [
      "ic| label: 20\n"
     ]
    },
    {
     "data": {
      "text/plain": [
       "array([[0.00458121]])"
      ]
     },
     "execution_count": 79,
     "metadata": {},
     "output_type": "execute_result"
    }
   ],
   "source": [
    "# 作为疑似抄袭的新闻，\n",
    "copy_index = 3352\n",
    "\n",
    "# 先找到它在聚类后的桶的编号，\n",
    "label = k_labels_sr[copy_index]\n",
    "\n",
    "ic(label)\n",
    "\n",
    "# 再计算它的余弦相似度，49153为聚类后同一个label下的一则真实新华社新闻的index\n",
    "cosine_similarity(tfidf[copy_index],tfidf[49153])"
   ]
  },
  {
   "cell_type": "code",
   "execution_count": 80,
   "metadata": {},
   "outputs": [
    {
     "name": "stderr",
     "output_type": "stream",
     "text": [
      "ic| type(news_index_demo): <class 'set'>\n"
     ]
    },
    {
     "data": {
      "text/plain": [
       "1698"
      ]
     },
     "execution_count": 80,
     "metadata": {},
     "output_type": "execute_result"
    }
   ],
   "source": [
    "# 与3352新闻在一个桶里的新华社新闻一共有1698则\n",
    "news_index_demo = class_id[label]\n",
    "ic(type(news_index_demo))\n",
    "len(news_index_demo)"
   ]
  },
  {
   "cell_type": "code",
   "execution_count": 81,
   "metadata": {},
   "outputs": [
    {
     "data": {
      "text/plain": [
       "[16389, 24582, 32774, 65544, 49161]"
      ]
     },
     "execution_count": 81,
     "metadata": {},
     "output_type": "execute_result"
    }
   ],
   "source": [
    "# news_index_demo为集合不支持切片，故转为list\n",
    "list(news_index_demo)[:5]"
   ]
  },
  {
   "cell_type": "code",
   "execution_count": 84,
   "metadata": {},
   "outputs": [],
   "source": [
    "def find_similar_text(copy_index,top=10):\n",
    "    # 只在新华社发布的文章中查找\n",
    "    label = k_labels_sr[copy_index]\n",
    "    dist_dict = {i:cosine_similarity(tfidf[copy_index],tfidf[i]) for i in class_id[label]}\n",
    "    \n",
    "    # 从大到小排序\n",
    "    return sorted(dist_dict.items(),key=lambda x:x[1][0], reverse=True)[:top]"
   ]
  },
  {
   "cell_type": "code",
   "execution_count": 85,
   "metadata": {},
   "outputs": [
    {
     "name": "stderr",
     "output_type": "stream",
     "text": [
      "ic| len(similar_list): 10\n"
     ]
    },
    {
     "data": {
      "text/plain": [
       "[(3134, array([[0.96848961]])),\n",
       " (63509, array([[0.94642972]])),\n",
       " (29439, array([[0.94283134]])),\n",
       " (3218, array([[0.87621302]])),\n",
       " (980, array([[0.87534597]])),\n",
       " (29613, array([[0.86935867]])),\n",
       " (29886, array([[0.8621539]])),\n",
       " (64044, array([[0.85277574]])),\n",
       " (29775, array([[0.84875245]])),\n",
       " (63972, array([[0.73415204]]))]"
      ]
     },
     "execution_count": 85,
     "metadata": {},
     "output_type": "execute_result"
    }
   ],
   "source": [
    "similar_list = find_similar_text(copy_index)\n",
    "\n",
    "ic(len(similar_list))\n",
    "similar_list"
   ]
  },
  {
   "cell_type": "markdown",
   "metadata": {},
   "source": [
    "\n",
    "\n",
    "## 7.2 查看抄袭新闻与新华社原文"
   ]
  },
  {
   "cell_type": "code",
   "execution_count": 86,
   "metadata": {},
   "outputs": [
    {
     "name": "stdout",
     "output_type": "stream",
     "text": [
      "怀疑是抄袭的新闻:\n",
      " 　　中国5月份56座城市新建商品住宅价格环比上涨，4月份为58座上涨。5月份15个一线和热点二线城市房地产市场基本稳定，5月份房地产调控政策效果继续显现。\r\n",
      "　　统计局：15个一线和热点二线城市房价同比涨幅全部回落\r\n",
      "　　国家统计局城市司高级统计师刘建伟解读5月份房价数据\r\n",
      "　　5月份一二线城市房价平均涨幅继续回落\r\n",
      "　　国家统计局今日发布了2017年5月份70个大中城市住宅销售价格统计数据。对此，国家统计局城市司高级统计师刘建伟进行了解读。\r\n",
      "　　一、15个一线和热点二线城市新建商品住宅价格同比涨幅全部回落、9个城市环比下降或持平\r\n",
      "　　5月份，因地制宜、因城施策的房地产调控政策效果继续显现，15个一线和热点二线城市房地产市场基本稳定。从同比看，15个城市新建商品住宅价格涨幅均比上月回落，回落幅度在0.5至6.4个百分点之间。从环比看，9个城市新建商品住宅价格下降或持平；5个城市涨幅在0.5%以内。\r\n",
      "　　二、70个大中城市中一二线城市房价同比涨幅持续回落\r\n",
      "　　5月份，70个城市中新建商品住宅和二手住宅价格同比涨幅比上月回落的城市分别有29和18个。其中，一二线城市同比涨幅回落尤其明显。据测算，一线城市新建商品住宅和二手住宅价格同比涨幅均连续8个月回落，5月份比4月份分别回落2.2和1.7个百分点；二线城市新建商品住宅和二手住宅价格同比涨幅分别连续6个月和4个月回落，5月份比4月份分别回落0.8和0.5个百分点。\r\n",
      "　　三、70个大中城市中房价环比下降及涨幅回落城市个数均有所增加\r\n",
      "　　5月份，70个城市中新建商品住宅价格环比下降的城市有9个，比上月增加1个；涨幅回落的城市有26个，比上月增加3个。二手住宅价格环比下降的城市有7个，比上月增加2个；涨幅回落的城市有30个，比上月增加8个。\r\n",
      "\n"
     ]
    }
   ],
   "source": [
    "print('怀疑是抄袭的新闻:\\n',df.iloc[copy_index].content)"
   ]
  },
  {
   "cell_type": "code",
   "execution_count": 87,
   "metadata": {},
   "outputs": [
    {
     "name": "stdout",
     "output_type": "stream",
     "text": [
      "相似原文:\n",
      " 　　国家统计局19日发布数据，5月份，15个一线和热点二线城市新建商品住宅价格同比涨幅全部回落，其中9个城市环比下降或持平。这9个价格环比下降或持平的城市为：北京、上海、南京、杭州、合肥、福州、郑州、深圳、成都。\r\n",
      "　　“5月份，因地制宜、因城施策的房地产调控政策效果继续显现，15个一线和热点二线城市房地产市场基本稳定。”国家统计局城市司高级统计师刘建伟说，从同比看，15个城市新建商品住宅价格涨幅均比上月回落，回落幅度在0.5至6.4个百分点之间。从环比看，9个城市新建商品住宅价格下降或持平；5个城市涨幅在0.5%以内。\r\n",
      "　　国家统计局当天还发布了5月份70个大中城市住宅销售价格统计数据。刘建伟介绍，5月份，70个大中城市中新建商品住宅和二手住宅价格同比涨幅比上月回落的城市分别有29和18个。其中，一二线城市同比涨幅回落尤其明显。据测算，一线城市新建商品住宅和二手住宅价格同比涨幅均连续8个月回落，5月份比4月份分别回落2.2和1.7个百分点；二线城市新建商品住宅和二手住宅价格同比涨幅分别连续6个月和4个月回落，5月份比4月份分别回落0.8和0.5个百分点。\r\n",
      "　　此外，70个大中城市中房价环比下降及涨幅回落城市个数均有所增加。统计显示，5月份，70个大中城市中新建商品住宅价格环比下降的城市有9个，比上月增加1个；涨幅回落的城市有26个，比上月增加3个。二手住宅价格环比下降的城市有7个，比上月增加2个；涨幅回落的城市有30个，比上月增加8个。\r\n",
      "\n"
     ]
    }
   ],
   "source": [
    "# 找一篇相似的新华社原文\n",
    "similar2 = similar_list[0][0]\n",
    "print(\"相似原文:\\n\",df.iloc[similar2].content)"
   ]
  },
  {
   "cell_type": "code",
   "execution_count": 88,
   "metadata": {},
   "outputs": [
    {
     "name": "stdout",
     "output_type": "stream",
     "text": [
      "相似原文:\n",
      " 　　新华社北京5月18日电国家统计局18日发布的数据显示，4月份，15个一线和热点二线城市新建商品住宅价格同比涨幅回落，9个城市环比下降或持平。\\n　　这9个价格环比下降或持平的城市是天津、上海、南京、合肥、福州、杭州、厦门、深圳、成都。\\n　　“4月份，因地制宜、因城施策的房地产调控政策继续发挥作用。”国家统计局城市司高级统计师刘建伟说，从同比看，15个城市新建商品住宅价格涨幅均比上月回落，回落幅度在0.7至7.4个百分点之间。从环比看，9个城市新建商品住宅价格下降或持平；5个城市涨幅回落，回落幅度在0.2至1.1个百分点之间。\\n　　国家统计局当天还发布了4月份70个大中城市住宅销售价格统计数据。刘建伟介绍，从同比看，4月份70个城市中有30个城市新建商品住宅价格涨幅比上月回落，比3月份增加6个，回落城市中23个为一二线城市。初步测算，一线城市新建商品住宅价格同比涨幅连续7个月回落，4月份比3月份回落2.8个百分点；二线城市新建商品住宅价格同比涨幅连续5个月回落，4月份比3月份回落1.0个百分点；三线城市新建商品住宅价格同比涨幅略有扩大，4月份比3月份扩大0.4个百分点。\\n　　从环比看，4月份70个城市中有23个城市新建商品住宅价格涨幅比上月回落，比3月份增加13个；7个城市由上月上涨转为持平或下降；3个城市降幅扩大。（完）\n"
     ]
    }
   ],
   "source": [
    "# 找一篇相似新华社的原文\n",
    "similar3 = similar_list[1][0]\n",
    "print(\"相似原文:\\n\",df.iloc[similar3].content)"
   ]
  },
  {
   "cell_type": "markdown",
   "metadata": {},
   "source": [
    "# 8 总结："
   ]
  },
  {
   "cell_type": "markdown",
   "metadata": {},
   "source": [
    "1、文档查重时，需要统计逆向文档率TF-IDF (API: TfidfTransformer())；                                                  \n",
    "2、文档之间的相似度统计需要通过余弦相似度进行 (API: cosine_similarity())；                                             \n",
    "3、当对TF-IDF进行K-Means聚类时，需要先对它进行范式归一化(API: Normalizer());详细原因见6.1节。                                 "
   ]
  },
  {
   "cell_type": "code",
   "execution_count": null,
   "metadata": {},
   "outputs": [],
   "source": []
  }
 ],
 "metadata": {
  "kernelspec": {
   "display_name": "Python 3",
   "language": "python",
   "name": "python3"
  },
  "language_info": {
   "codemirror_mode": {
    "name": "ipython",
    "version": 3
   },
   "file_extension": ".py",
   "mimetype": "text/x-python",
   "name": "python",
   "nbconvert_exporter": "python",
   "pygments_lexer": "ipython3",
   "version": "3.8.3"
  }
 },
 "nbformat": 4,
 "nbformat_minor": 4
}
