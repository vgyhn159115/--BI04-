{
 "cells": [
  {
   "cell_type": "markdown",
   "metadata": {},
   "source": [
    "Action03:设计你自己的句子生成器"
   ]
  },
  {
   "cell_type": "code",
   "execution_count": 2,
   "metadata": {},
   "outputs": [],
   "source": [
    "import random"
   ]
  },
  {
   "cell_type": "code",
   "execution_count": 3,
   "metadata": {},
   "outputs": [],
   "source": [
    "# 定语从句语法\n",
    "grammar = '''\n",
    "战斗 => 施法  ， 结果 。\n",
    "施法 => 主语 动作 技能 \n",
    "结果 => 主语 获得 效果\n",
    "主语 => 张飞 | 关羽 | 赵云 | 典韦 | 许褚 | 刘备 | 黄忠 | 曹操 | 鲁班七号 | 貂蝉\n",
    "动作 => 施放 | 使用 | 召唤 \n",
    "技能 => 一骑当千 | 单刀赴会 | 青龙偃月 | 刀锋铁骑 | 黑暗潜能 | 画地为牢 | 守护机关 | 狂兽血性 | 龙鸣 | 惊雷之龙 | 破云之龙 | 天翔之龙\n",
    "获得 => 损失 | 获得 \n",
    "效果 => 数值 状态\n",
    "数值 => 1 | 1000 |5000 | 100 \n",
    "状态 => 法力 | 生命\n",
    "'''"
   ]
  },
  {
   "cell_type": "code",
   "execution_count": 6,
   "metadata": {},
   "outputs": [],
   "source": [
    "def get_gramdict(grammar, linespit='\\n',keysplit='=>'):\n",
    "    \"\"\"构造语法字典\"\"\"\n",
    "    result = {}\n",
    "    for line in grammar.split(linespit):\n",
    "        if line != '':\n",
    "            expr, actions = line.split(keysplit)\n",
    "            result[expr.strip()] = [a.split() for a in actions.split('|')]\n",
    "    return result"
   ]
  },
  {
   "cell_type": "code",
   "execution_count": 7,
   "metadata": {
    "scrolled": true
   },
   "outputs": [
    {
     "data": {
      "text/plain": [
       "{'战斗': [['施法', '，', '结果', '。']],\n",
       " '施法': [['主语', '动作', '技能']],\n",
       " '结果': [['主语', '获得', '效果']],\n",
       " '主语': [['张飞'],\n",
       "  ['关羽'],\n",
       "  ['赵云'],\n",
       "  ['典韦'],\n",
       "  ['许褚'],\n",
       "  ['刘备'],\n",
       "  ['黄忠'],\n",
       "  ['曹操'],\n",
       "  ['鲁班七号'],\n",
       "  ['貂蝉']],\n",
       " '动作': [['施放'], ['使用'], ['召唤']],\n",
       " '技能': [['一骑当千'],\n",
       "  ['单刀赴会'],\n",
       "  ['青龙偃月'],\n",
       "  ['刀锋铁骑'],\n",
       "  ['黑暗潜能'],\n",
       "  ['画地为牢'],\n",
       "  ['守护机关'],\n",
       "  ['狂兽血性'],\n",
       "  ['龙鸣'],\n",
       "  ['惊雷之龙'],\n",
       "  ['破云之龙'],\n",
       "  ['天翔之龙']],\n",
       " '获得': [['损失'], ['获得']],\n",
       " '效果': [['数值', '状态']],\n",
       " '数值': [['1'], ['1000'], ['5000'], ['100']],\n",
       " '状态': [['法力'], ['生命']]}"
      ]
     },
     "execution_count": 7,
     "metadata": {},
     "output_type": "execute_result"
    }
   ],
   "source": [
    "gramdict = get_gramdict(grammar)\n",
    "gramdict"
   ]
  },
  {
   "cell_type": "code",
   "execution_count": 8,
   "metadata": {},
   "outputs": [],
   "source": [
    "def mygenerate(gramdict,target,isEng=False):\n",
    "    \"\"\"递归生成句子\"\"\"\n",
    "    if target not in gramdict: return target\n",
    "    blank = ''\n",
    "    if isEng:\n",
    "        blank = ' '\n",
    "    action = random.choice(gramdict[target])\n",
    "    return blank.join(mygenerate(gramdict, a, a.isalpha()) for a in action)"
   ]
  },
  {
   "cell_type": "code",
   "execution_count": 9,
   "metadata": {},
   "outputs": [
    {
     "data": {
      "text/plain": [
       "'刘备 施放 单刀赴会，关羽 损失 1000 法力。'"
      ]
     },
     "execution_count": 9,
     "metadata": {},
     "output_type": "execute_result"
    }
   ],
   "source": [
    "mygenerate(gramdict,'战斗')"
   ]
  },
  {
   "cell_type": "markdown",
   "metadata": {},
   "source": [
    "　"
   ]
  },
  {
   "cell_type": "markdown",
   "metadata": {},
   "source": [
    "总结： 生成字典时，内层value需要是嵌套的列表，否则生成句子的时候，随机选择将只得到一个词，但递归的过程中，可能需要逐一遍历value中值，比如：遍历['施法', '，', '结果', '。']，从而得到施法的动作，以及施法后的结果。"
   ]
  },
  {
   "cell_type": "code",
   "execution_count": 10,
   "metadata": {},
   "outputs": [],
   "source": [
    "def game(N=10):\n",
    "    #roles = ['张飞 ', '关羽', '赵云', '典韦', '许褚', '刘备', '黄忠', '曹操', '鲁班七号 ', '貂蝉']\n",
    "    print('--------->游戏开始<---------')\n",
    "    for i in range(N):\n",
    "        result = mygenerate(gramdict, '战斗')\n",
    "        print(result)\n",
    "        #temp = result.split()    \n",
    "        print(\"-\" * 50)\n",
    "    print('--------->游戏结束<---------')"
   ]
  },
  {
   "cell_type": "code",
   "execution_count": 11,
   "metadata": {
    "scrolled": false
   },
   "outputs": [
    {
     "name": "stdout",
     "output_type": "stream",
     "text": [
      "--------->游戏开始<---------\n",
      "曹操 施放 天翔之龙，关羽 损失 100 生命。\n",
      "--------------------------------------------------\n",
      "黄忠 使用 单刀赴会，貂蝉 损失 100 生命。\n",
      "--------------------------------------------------\n",
      "黄忠 施放 狂兽血性，赵云 损失 100 生命。\n",
      "--------------------------------------------------\n",
      "黄忠 召唤 黑暗潜能，许褚 损失 5000 生命。\n",
      "--------------------------------------------------\n",
      "张飞 使用 破云之龙，鲁班七号 损失 1000 法力。\n",
      "--------------------------------------------------\n",
      "许褚 召唤 惊雷之龙，鲁班七号 损失 5000 生命。\n",
      "--------------------------------------------------\n",
      "曹操 召唤 破云之龙，关羽 损失 5000 法力。\n",
      "--------------------------------------------------\n",
      "貂蝉 使用 惊雷之龙，许褚 损失 5000 生命。\n",
      "--------------------------------------------------\n",
      "张飞 召唤 一骑当千，刘备 损失 100 法力。\n",
      "--------------------------------------------------\n",
      "典韦 使用 破云之龙，张飞 损失 5000 生命。\n",
      "--------------------------------------------------\n",
      "--------->游戏结束<---------\n"
     ]
    }
   ],
   "source": [
    "game(10)"
   ]
  },
  {
   "cell_type": "code",
   "execution_count": null,
   "metadata": {},
   "outputs": [],
   "source": []
  }
 ],
 "metadata": {
  "kernelspec": {
   "display_name": "Python 3",
   "language": "python",
   "name": "python3"
  },
  "language_info": {
   "codemirror_mode": {
    "name": "ipython",
    "version": 3
   },
   "file_extension": ".py",
   "mimetype": "text/x-python",
   "name": "python",
   "nbconvert_exporter": "python",
   "pygments_lexer": "ipython3",
   "version": "3.8.3"
  }
 },
 "nbformat": 4,
 "nbformat_minor": 4
}
