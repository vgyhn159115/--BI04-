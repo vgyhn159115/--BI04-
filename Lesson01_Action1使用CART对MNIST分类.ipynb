{
 "cells": [
  {
   "cell_type": "code",
   "execution_count": 1,
   "metadata": {},
   "outputs": [],
   "source": [
    "from sklearn.datasets import load_digits  # 加载mnist数据集\n",
    "from sklearn.preprocessing import StandardScaler, MinMaxScaler # 数据预处理-标准化\n",
    "from sklearn.model_selection import train_test_split  # 拆分数据集\n",
    "from sklearn.tree import DecisionTreeClassifier, export_graphviz  # 决策树分类模型, 输出决策树\n",
    "from sklearn.metrics import accuracy_score  # 评估模型 准确率\n",
    "from matplotlib import pyplot as plt"
   ]
  },
  {
   "cell_type": "code",
   "execution_count": 2,
   "metadata": {},
   "outputs": [],
   "source": [
    "digits = load_digits()"
   ]
  },
  {
   "cell_type": "code",
   "execution_count": 3,
   "metadata": {},
   "outputs": [],
   "source": [
    "data = digits.data\n",
    "target = digits.target"
   ]
  },
  {
   "cell_type": "code",
   "execution_count": 4,
   "metadata": {},
   "outputs": [
    {
     "data": {
      "text/plain": [
       "((1797, 64), (1797,))"
      ]
     },
     "execution_count": 4,
     "metadata": {},
     "output_type": "execute_result"
    }
   ],
   "source": [
    "data.shape,target.shape"
   ]
  },
  {
   "cell_type": "code",
   "execution_count": 5,
   "metadata": {},
   "outputs": [],
   "source": [
    "#使用树模型不需要归一化，因为树模型只考虑相对大小\n",
    "transfer = MinMaxScaler()\n",
    "data = transfer.fit_transform(data)"
   ]
  },
  {
   "cell_type": "markdown",
   "metadata": {},
   "source": [
    "# 拆分数据集"
   ]
  },
  {
   "cell_type": "code",
   "execution_count": 6,
   "metadata": {},
   "outputs": [],
   "source": [
    "x_train,x_test,y_train,y_test = train_test_split(data,target,test_size=0.25,random_state=30)"
   ]
  },
  {
   "cell_type": "code",
   "execution_count": 7,
   "metadata": {},
   "outputs": [
    {
     "data": {
      "text/plain": [
       "((1347, 64), (450, 64))"
      ]
     },
     "execution_count": 7,
     "metadata": {},
     "output_type": "execute_result"
    }
   ],
   "source": [
    "x_train.shape,x_test.shape"
   ]
  },
  {
   "cell_type": "code",
   "execution_count": 8,
   "metadata": {},
   "outputs": [
    {
     "data": {
      "text/plain": [
       "((1347,), (450,))"
      ]
     },
     "execution_count": 8,
     "metadata": {},
     "output_type": "execute_result"
    }
   ],
   "source": [
    "y_train.shape,y_test.shape"
   ]
  },
  {
   "cell_type": "code",
   "execution_count": 9,
   "metadata": {},
   "outputs": [],
   "source": [
    "#训练模型：\n",
    "#基尼系数最小的准则，是在sklearn中的默认的划分依据\n",
    "estimator = DecisionTreeClassifier(criterion='gini')"
   ]
  },
  {
   "cell_type": "code",
   "execution_count": 10,
   "metadata": {},
   "outputs": [
    {
     "data": {
      "text/plain": [
       "DecisionTreeClassifier()"
      ]
     },
     "execution_count": 10,
     "metadata": {},
     "output_type": "execute_result"
    }
   ],
   "source": [
    "estimator.fit(x_train,y_train)"
   ]
  },
  {
   "cell_type": "code",
   "execution_count": 11,
   "metadata": {},
   "outputs": [
    {
     "data": {
      "text/plain": [
       "array([3, 8, 6, 5, 3, 3, 3, 2, 1, 2])"
      ]
     },
     "execution_count": 11,
     "metadata": {},
     "output_type": "execute_result"
    }
   ],
   "source": [
    "#预测和评估\n",
    "y_pred = estimator.predict(x_test)\n",
    "y_pred[:10]"
   ]
  },
  {
   "cell_type": "code",
   "execution_count": 13,
   "metadata": {},
   "outputs": [
    {
     "name": "stdout",
     "output_type": "stream",
     "text": [
      "预测准确率为:84.44%\n"
     ]
    }
   ],
   "source": [
    "acc = accuracy_score(y_test,y_pred)\n",
    "print(\"预测准确率为:{:.2f}%\".format(acc * 100))"
   ]
  },
  {
   "cell_type": "code",
   "execution_count": null,
   "metadata": {},
   "outputs": [],
   "source": [
    "#预测结果混淆矩阵可视化"
   ]
  },
  {
   "cell_type": "code",
   "execution_count": 15,
   "metadata": {},
   "outputs": [],
   "source": [
    "import seaborn as sns\n",
    "from sklearn.metrics import confusion_matrix"
   ]
  },
  {
   "cell_type": "code",
   "execution_count": 16,
   "metadata": {},
   "outputs": [
    {
     "data": {
      "text/plain": [
       "array([[41,  0,  0,  0,  0,  2,  0,  0,  1,  0],\n",
       "       [ 0, 38,  2,  4,  1,  2,  0,  0,  4,  0],\n",
       "       [ 0,  1, 44,  1,  0,  0,  1,  1,  1,  0],\n",
       "       [ 0,  1,  1, 26,  0,  1,  0,  1,  3,  4],\n",
       "       [ 3,  0,  0,  0, 42,  2,  0,  1,  0,  2],\n",
       "       [ 0,  0,  0,  0,  2, 43,  0,  1,  0,  1],\n",
       "       [ 0,  0,  0,  0,  3,  0, 50,  0,  1,  0],\n",
       "       [ 0,  0,  1,  0,  0,  1,  0, 36,  0,  3],\n",
       "       [ 0,  2,  2,  5,  1,  0,  1,  0, 28,  1],\n",
       "       [ 0,  0,  0,  2,  0,  1,  0,  0,  2, 32]], dtype=int64)"
      ]
     },
     "execution_count": 16,
     "metadata": {},
     "output_type": "execute_result"
    }
   ],
   "source": [
    "cm = confusion_matrix(y_test,y_pred)\n",
    "cm"
   ]
  },
  {
   "cell_type": "code",
   "execution_count": 17,
   "metadata": {},
   "outputs": [
    {
     "data": {
      "image/png": "[encoded data removed]",
      "text/plain": [
       "<Figure size 432x288 with 2 Axes>"
      ]
     },
     "metadata": {
      "needs_background": "light"
     },
     "output_type": "display_data"
    }
   ],
   "source": [
    "sns.heatmap(cm,annot=True,square=True)\n",
    "plt.show()"
   ]
  },
  {
   "cell_type": "code",
   "execution_count": 18,
   "metadata": {},
   "outputs": [],
   "source": [
    "export_graphviz(decision_tree=estimator,\n",
    "               out_file='./minist_CART_tree.dot')"
   ]
  },
  {
   "cell_type": "code",
   "execution_count": null,
   "metadata": {},
   "outputs": [],
   "source": [
    "#熟悉属性、方法"
   ]
  },
  {
   "cell_type": "code",
   "execution_count": 19,
   "metadata": {},
   "outputs": [
    {
     "data": {
      "text/plain": [
       "14"
      ]
     },
     "execution_count": 19,
     "metadata": {},
     "output_type": "execute_result"
    }
   ],
   "source": [
    "estimator.get_depth()#树的深度"
   ]
  },
  {
   "cell_type": "code",
   "execution_count": 20,
   "metadata": {},
   "outputs": [
    {
     "data": {
      "text/plain": [
       "140"
      ]
     },
     "execution_count": 20,
     "metadata": {},
     "output_type": "execute_result"
    }
   ],
   "source": [
    "estimator.get_n_leaves()#树的叶子节点数"
   ]
  },
  {
   "cell_type": "code",
   "execution_count": 21,
   "metadata": {},
   "outputs": [],
   "source": [
    "dec_path = estimator.decision_path(x_train)"
   ]
  },
  {
   "cell_type": "code",
   "execution_count": 22,
   "metadata": {},
   "outputs": [
    {
     "data": {
      "text/plain": [
       "scipy.sparse.csr.csr_matrix"
      ]
     },
     "execution_count": 22,
     "metadata": {},
     "output_type": "execute_result"
    }
   ],
   "source": [
    "type(dec_path)"
   ]
  },
  {
   "cell_type": "code",
   "execution_count": 23,
   "metadata": {},
   "outputs": [
    {
     "name": "stdout",
     "output_type": "stream",
     "text": [
      "  (0, 0)\t1\n",
      "  (0, 32)\t1\n",
      "  (0, 94)\t1\n",
      "  (0, 144)\t1\n",
      "  (0, 145)\t1\n",
      "  (0, 157)\t1\n",
      "  (0, 158)\t1\n",
      "  (0, 162)\t1\n",
      "  (0, 163)\t1\n",
      "  (0, 175)\t1\n",
      "  (0, 176)\t1\n",
      "  (1, 0)\t1\n",
      "  (1, 1)\t1\n",
      "  (1, 2)\t1\n",
      "  (1, 12)\t1\n",
      "  (1, 14)\t1\n",
      "  (1, 16)\t1\n",
      "  (2, 0)\t1\n",
      "  (2, 32)\t1\n",
      "  (2, 94)\t1\n",
      "  (2, 144)\t1\n",
      "  (2, 145)\t1\n",
      "  (2, 157)\t1\n",
      "  (2, 183)\t1\n",
      "  (2, 187)\t1\n",
      "  :\t:\n",
      "  (1344, 144)\t1\n",
      "  (1344, 200)\t1\n",
      "  (1344, 201)\t1\n",
      "  (1344, 221)\t1\n",
      "  (1344, 222)\t1\n",
      "  (1344, 234)\t1\n",
      "  (1344, 235)\t1\n",
      "  (1344, 239)\t1\n",
      "  (1345, 0)\t1\n",
      "  (1345, 1)\t1\n",
      "  (1345, 2)\t1\n",
      "  (1345, 12)\t1\n",
      "  (1345, 14)\t1\n",
      "  (1345, 16)\t1\n",
      "  (1346, 0)\t1\n",
      "  (1346, 32)\t1\n",
      "  (1346, 94)\t1\n",
      "  (1346, 144)\t1\n",
      "  (1346, 145)\t1\n",
      "  (1346, 157)\t1\n",
      "  (1346, 158)\t1\n",
      "  (1346, 162)\t1\n",
      "  (1346, 178)\t1\n",
      "  (1346, 179)\t1\n",
      "  (1346, 180)\t1\n"
     ]
    }
   ],
   "source": [
    "#返回树中的决策路径的稀疏矩阵\n",
    "print(dec_path)"
   ]
  },
  {
   "cell_type": "code",
   "execution_count": null,
   "metadata": {},
   "outputs": [],
   "source": [
    "#稀疏矩阵的元组中第一个元素是数组的行索引，第二个元素应该是决策树中node的索引号，即数组的列索引"
   ]
  },
  {
   "cell_type": "code",
   "execution_count": 24,
   "metadata": {},
   "outputs": [
    {
     "data": {
      "text/plain": [
       "array([[1, 0, 0, ..., 0, 0, 0],\n",
       "       [1, 1, 1, ..., 0, 0, 0],\n",
       "       [1, 0, 0, ..., 0, 0, 0],\n",
       "       ...,\n",
       "       [1, 0, 0, ..., 0, 0, 0],\n",
       "       [1, 1, 1, ..., 0, 0, 0],\n",
       "       [1, 0, 0, ..., 0, 0, 0]], dtype=int64)"
      ]
     },
     "execution_count": 24,
     "metadata": {},
     "output_type": "execute_result"
    }
   ],
   "source": [
    "dec_path.toarray()"
   ]
  },
  {
   "cell_type": "code",
   "execution_count": 25,
   "metadata": {},
   "outputs": [
    {
     "data": {
      "text/plain": [
       "(1347, 279)"
      ]
     },
     "execution_count": 25,
     "metadata": {},
     "output_type": "execute_result"
    }
   ],
   "source": [
    "#稀疏矩阵数组\n",
    "#一共1347个样本，279个node\n",
    "dec_path.toarray().shape"
   ]
  },
  {
   "cell_type": "code",
   "execution_count": 26,
   "metadata": {},
   "outputs": [
    {
     "data": {
      "text/plain": [
       "array([0.        , 0.01087691, 0.        , 0.        , 0.01000771,\n",
       "       0.03892517, 0.00266332, 0.00442418, 0.00161759, 0.00412525,\n",
       "       0.00512906, 0.0016501 , 0.00425294, 0.01473198, 0.00082505,\n",
       "       0.        , 0.        , 0.00123758, 0.01155984, 0.02522066,\n",
       "       0.05415936, 0.08281241, 0.        , 0.        , 0.        ,\n",
       "       0.00162305, 0.07636993, 0.04634309, 0.05791402, 0.00544033,\n",
       "       0.01487322, 0.        , 0.        , 0.05113273, 0.01787237,\n",
       "       0.0051784 , 0.07459433, 0.03054113, 0.00953599, 0.        ,\n",
       "       0.        , 0.01219702, 0.08933728, 0.0561104 , 0.01733228,\n",
       "       0.00509998, 0.00295643, 0.        , 0.        , 0.        ,\n",
       "       0.00635548, 0.00743226, 0.00404733, 0.01326413, 0.02397377,\n",
       "       0.        , 0.        , 0.00297018, 0.00570801, 0.01465981,\n",
       "       0.06131626, 0.00234505, 0.0015841 , 0.00767254])"
      ]
     },
     "execution_count": 26,
     "metadata": {},
     "output_type": "execute_result"
    }
   ],
   "source": [
    "#特征的重要性(值越高，特征越重要)\n",
    "estimator.feature_importances_"
   ]
  },
  {
   "cell_type": "code",
   "execution_count": 27,
   "metadata": {},
   "outputs": [
    {
     "data": {
      "text/plain": [
       "(64,)"
      ]
     },
     "execution_count": 27,
     "metadata": {},
     "output_type": "execute_result"
    }
   ],
   "source": [
    "#维度等于n_features的数组\n",
    "estimator.feature_importances_.shape"
   ]
  },
  {
   "cell_type": "code",
   "execution_count": 28,
   "metadata": {},
   "outputs": [
    {
     "data": {
      "text/plain": [
       "1"
      ]
     },
     "execution_count": 28,
     "metadata": {},
     "output_type": "execute_result"
    }
   ],
   "source": [
    "#执行拟合时的输出数量\n",
    "estimator.n_outputs_"
   ]
  },
  {
   "cell_type": "code",
   "execution_count": null,
   "metadata": {},
   "outputs": [],
   "source": [
    "推演决策树中一些指标计算过程："
   ]
  },
  {
   "cell_type": "code",
   "execution_count": 29,
   "metadata": {},
   "outputs": [],
   "source": [
    "import pandas as pd\n",
    "import numpy as np"
   ]
  },
  {
   "cell_type": "code",
   "execution_count": 30,
   "metadata": {},
   "outputs": [
    {
     "data": {
      "text/plain": [
       "1347"
      ]
     },
     "execution_count": 30,
     "metadata": {},
     "output_type": "execute_result"
    }
   ],
   "source": [
    "N = x_train.shape[0]\n",
    "#样本数\n",
    "N"
   ]
  },
  {
   "cell_type": "code",
   "execution_count": 31,
   "metadata": {},
   "outputs": [
    {
     "data": {
      "text/html": [
       "<div>\n",
       "<style scoped>\n",
       "    .dataframe tbody tr th:only-of-type {\n",
       "        vertical-align: middle;\n",
       "    }\n",
       "\n",
       "    .dataframe tbody tr th {\n",
       "        vertical-align: top;\n",
       "    }\n",
       "\n",
       "    .dataframe thead th {\n",
       "        text-align: right;\n",
       "    }\n",
       "</style>\n",
       "<table border=\"1\" class=\"dataframe\">\n",
       "  <thead>\n",
       "    <tr style=\"text-align: right;\">\n",
       "      <th></th>\n",
       "      <th>X_0</th>\n",
       "      <th>X_1</th>\n",
       "      <th>X_2</th>\n",
       "      <th>X_3</th>\n",
       "      <th>X_4</th>\n",
       "      <th>X_5</th>\n",
       "      <th>X_6</th>\n",
       "      <th>X_7</th>\n",
       "      <th>X_8</th>\n",
       "      <th>X_9</th>\n",
       "      <th>...</th>\n",
       "      <th>X_54</th>\n",
       "      <th>X_55</th>\n",
       "      <th>X_56</th>\n",
       "      <th>X_57</th>\n",
       "      <th>X_58</th>\n",
       "      <th>X_59</th>\n",
       "      <th>X_60</th>\n",
       "      <th>X_61</th>\n",
       "      <th>X_62</th>\n",
       "      <th>X_63</th>\n",
       "    </tr>\n",
       "  </thead>\n",
       "  <tbody>\n",
       "    <tr>\n",
       "      <th>0</th>\n",
       "      <td>0.0</td>\n",
       "      <td>0.0</td>\n",
       "      <td>0.8125</td>\n",
       "      <td>1.0000</td>\n",
       "      <td>1.0000</td>\n",
       "      <td>0.3125</td>\n",
       "      <td>0.0000</td>\n",
       "      <td>0.0</td>\n",
       "      <td>0.0</td>\n",
       "      <td>0.3125</td>\n",
       "      <td>...</td>\n",
       "      <td>0.3750</td>\n",
       "      <td>0.0</td>\n",
       "      <td>0.0</td>\n",
       "      <td>0.0</td>\n",
       "      <td>0.9375</td>\n",
       "      <td>1.0000</td>\n",
       "      <td>1.0000</td>\n",
       "      <td>0.6250</td>\n",
       "      <td>0.0000</td>\n",
       "      <td>0.0</td>\n",
       "    </tr>\n",
       "    <tr>\n",
       "      <th>1</th>\n",
       "      <td>0.0</td>\n",
       "      <td>0.0</td>\n",
       "      <td>0.1250</td>\n",
       "      <td>0.6875</td>\n",
       "      <td>0.9375</td>\n",
       "      <td>0.1250</td>\n",
       "      <td>0.0000</td>\n",
       "      <td>0.0</td>\n",
       "      <td>0.0</td>\n",
       "      <td>0.0000</td>\n",
       "      <td>...</td>\n",
       "      <td>0.0000</td>\n",
       "      <td>0.0</td>\n",
       "      <td>0.0</td>\n",
       "      <td>0.0</td>\n",
       "      <td>0.2500</td>\n",
       "      <td>1.0000</td>\n",
       "      <td>0.7500</td>\n",
       "      <td>0.0625</td>\n",
       "      <td>0.0000</td>\n",
       "      <td>0.0</td>\n",
       "    </tr>\n",
       "    <tr>\n",
       "      <th>2</th>\n",
       "      <td>0.0</td>\n",
       "      <td>0.0</td>\n",
       "      <td>0.0000</td>\n",
       "      <td>0.0625</td>\n",
       "      <td>0.4375</td>\n",
       "      <td>0.9375</td>\n",
       "      <td>0.6875</td>\n",
       "      <td>0.0</td>\n",
       "      <td>0.0</td>\n",
       "      <td>0.0000</td>\n",
       "      <td>...</td>\n",
       "      <td>0.0000</td>\n",
       "      <td>0.0</td>\n",
       "      <td>0.0</td>\n",
       "      <td>0.0</td>\n",
       "      <td>0.0000</td>\n",
       "      <td>0.0000</td>\n",
       "      <td>0.5625</td>\n",
       "      <td>0.3750</td>\n",
       "      <td>0.0000</td>\n",
       "      <td>0.0</td>\n",
       "    </tr>\n",
       "    <tr>\n",
       "      <th>3</th>\n",
       "      <td>0.0</td>\n",
       "      <td>0.0</td>\n",
       "      <td>0.1250</td>\n",
       "      <td>0.9375</td>\n",
       "      <td>0.9375</td>\n",
       "      <td>1.0000</td>\n",
       "      <td>0.6875</td>\n",
       "      <td>0.0</td>\n",
       "      <td>0.0</td>\n",
       "      <td>0.0000</td>\n",
       "      <td>...</td>\n",
       "      <td>0.0000</td>\n",
       "      <td>0.0</td>\n",
       "      <td>0.0</td>\n",
       "      <td>0.0</td>\n",
       "      <td>0.2500</td>\n",
       "      <td>0.9375</td>\n",
       "      <td>0.4375</td>\n",
       "      <td>0.0000</td>\n",
       "      <td>0.0000</td>\n",
       "      <td>0.0</td>\n",
       "    </tr>\n",
       "    <tr>\n",
       "      <th>4</th>\n",
       "      <td>0.0</td>\n",
       "      <td>0.0</td>\n",
       "      <td>0.0000</td>\n",
       "      <td>0.0000</td>\n",
       "      <td>0.3125</td>\n",
       "      <td>0.9375</td>\n",
       "      <td>0.5000</td>\n",
       "      <td>0.0</td>\n",
       "      <td>0.0</td>\n",
       "      <td>0.0000</td>\n",
       "      <td>...</td>\n",
       "      <td>0.0625</td>\n",
       "      <td>0.0</td>\n",
       "      <td>0.0</td>\n",
       "      <td>0.0</td>\n",
       "      <td>0.0000</td>\n",
       "      <td>0.0000</td>\n",
       "      <td>0.5000</td>\n",
       "      <td>0.8750</td>\n",
       "      <td>0.0000</td>\n",
       "      <td>0.0</td>\n",
       "    </tr>\n",
       "    <tr>\n",
       "      <th>...</th>\n",
       "      <td>...</td>\n",
       "      <td>...</td>\n",
       "      <td>...</td>\n",
       "      <td>...</td>\n",
       "      <td>...</td>\n",
       "      <td>...</td>\n",
       "      <td>...</td>\n",
       "      <td>...</td>\n",
       "      <td>...</td>\n",
       "      <td>...</td>\n",
       "      <td>...</td>\n",
       "      <td>...</td>\n",
       "      <td>...</td>\n",
       "      <td>...</td>\n",
       "      <td>...</td>\n",
       "      <td>...</td>\n",
       "      <td>...</td>\n",
       "      <td>...</td>\n",
       "      <td>...</td>\n",
       "      <td>...</td>\n",
       "      <td>...</td>\n",
       "    </tr>\n",
       "    <tr>\n",
       "      <th>1342</th>\n",
       "      <td>0.0</td>\n",
       "      <td>0.0</td>\n",
       "      <td>0.0000</td>\n",
       "      <td>0.1250</td>\n",
       "      <td>0.8750</td>\n",
       "      <td>0.3125</td>\n",
       "      <td>0.0000</td>\n",
       "      <td>0.0</td>\n",
       "      <td>0.0</td>\n",
       "      <td>0.0000</td>\n",
       "      <td>...</td>\n",
       "      <td>0.0000</td>\n",
       "      <td>0.0</td>\n",
       "      <td>0.0</td>\n",
       "      <td>0.0</td>\n",
       "      <td>0.0000</td>\n",
       "      <td>0.2500</td>\n",
       "      <td>1.0000</td>\n",
       "      <td>0.4375</td>\n",
       "      <td>0.0000</td>\n",
       "      <td>0.0</td>\n",
       "    </tr>\n",
       "    <tr>\n",
       "      <th>1343</th>\n",
       "      <td>0.0</td>\n",
       "      <td>0.0</td>\n",
       "      <td>0.5000</td>\n",
       "      <td>0.8750</td>\n",
       "      <td>1.0000</td>\n",
       "      <td>1.0000</td>\n",
       "      <td>0.1250</td>\n",
       "      <td>0.0</td>\n",
       "      <td>0.0</td>\n",
       "      <td>0.0000</td>\n",
       "      <td>...</td>\n",
       "      <td>0.0000</td>\n",
       "      <td>0.0</td>\n",
       "      <td>0.0</td>\n",
       "      <td>0.0</td>\n",
       "      <td>0.7500</td>\n",
       "      <td>0.4375</td>\n",
       "      <td>0.0000</td>\n",
       "      <td>0.0000</td>\n",
       "      <td>0.0000</td>\n",
       "      <td>0.0</td>\n",
       "    </tr>\n",
       "    <tr>\n",
       "      <th>1344</th>\n",
       "      <td>0.0</td>\n",
       "      <td>0.0</td>\n",
       "      <td>0.1875</td>\n",
       "      <td>0.6250</td>\n",
       "      <td>0.8750</td>\n",
       "      <td>0.1875</td>\n",
       "      <td>0.0000</td>\n",
       "      <td>0.0</td>\n",
       "      <td>0.0</td>\n",
       "      <td>0.5000</td>\n",
       "      <td>...</td>\n",
       "      <td>0.7500</td>\n",
       "      <td>0.0</td>\n",
       "      <td>0.0</td>\n",
       "      <td>0.0</td>\n",
       "      <td>0.1250</td>\n",
       "      <td>0.6875</td>\n",
       "      <td>1.0000</td>\n",
       "      <td>1.0000</td>\n",
       "      <td>0.5625</td>\n",
       "      <td>0.0</td>\n",
       "    </tr>\n",
       "    <tr>\n",
       "      <th>1345</th>\n",
       "      <td>0.0</td>\n",
       "      <td>0.0</td>\n",
       "      <td>0.3750</td>\n",
       "      <td>0.8750</td>\n",
       "      <td>0.6875</td>\n",
       "      <td>0.0625</td>\n",
       "      <td>0.0000</td>\n",
       "      <td>0.0</td>\n",
       "      <td>0.0</td>\n",
       "      <td>0.0000</td>\n",
       "      <td>...</td>\n",
       "      <td>0.0000</td>\n",
       "      <td>0.0</td>\n",
       "      <td>0.0</td>\n",
       "      <td>0.0</td>\n",
       "      <td>0.3125</td>\n",
       "      <td>0.8750</td>\n",
       "      <td>0.9375</td>\n",
       "      <td>0.2500</td>\n",
       "      <td>0.0000</td>\n",
       "      <td>0.0</td>\n",
       "    </tr>\n",
       "    <tr>\n",
       "      <th>1346</th>\n",
       "      <td>0.0</td>\n",
       "      <td>0.0</td>\n",
       "      <td>0.6875</td>\n",
       "      <td>0.6250</td>\n",
       "      <td>0.7500</td>\n",
       "      <td>0.8750</td>\n",
       "      <td>0.6875</td>\n",
       "      <td>0.0</td>\n",
       "      <td>0.0</td>\n",
       "      <td>0.0000</td>\n",
       "      <td>...</td>\n",
       "      <td>0.0000</td>\n",
       "      <td>0.0</td>\n",
       "      <td>0.0</td>\n",
       "      <td>0.0</td>\n",
       "      <td>0.5625</td>\n",
       "      <td>0.8750</td>\n",
       "      <td>0.5625</td>\n",
       "      <td>0.1250</td>\n",
       "      <td>0.0000</td>\n",
       "      <td>0.0</td>\n",
       "    </tr>\n",
       "  </tbody>\n",
       "</table>\n",
       "<p>1347 rows × 64 columns</p>\n",
       "</div>"
      ],
      "text/plain": [
       "      X_0  X_1     X_2     X_3     X_4     X_5     X_6  X_7  X_8     X_9  ...  \\\n",
       "0     0.0  0.0  0.8125  1.0000  1.0000  0.3125  0.0000  0.0  0.0  0.3125  ...   \n",
       "1     0.0  0.0  0.1250  0.6875  0.9375  0.1250  0.0000  0.0  0.0  0.0000  ...   \n",
       "2     0.0  0.0  0.0000  0.0625  0.4375  0.9375  0.6875  0.0  0.0  0.0000  ...   \n",
       "3     0.0  0.0  0.1250  0.9375  0.9375  1.0000  0.6875  0.0  0.0  0.0000  ...   \n",
       "4     0.0  0.0  0.0000  0.0000  0.3125  0.9375  0.5000  0.0  0.0  0.0000  ...   \n",
       "...   ...  ...     ...     ...     ...     ...     ...  ...  ...     ...  ...   \n",
       "1342  0.0  0.0  0.0000  0.1250  0.8750  0.3125  0.0000  0.0  0.0  0.0000  ...   \n",
       "1343  0.0  0.0  0.5000  0.8750  1.0000  1.0000  0.1250  0.0  0.0  0.0000  ...   \n",
       "1344  0.0  0.0  0.1875  0.6250  0.8750  0.1875  0.0000  0.0  0.0  0.5000  ...   \n",
       "1345  0.0  0.0  0.3750  0.8750  0.6875  0.0625  0.0000  0.0  0.0  0.0000  ...   \n",
       "1346  0.0  0.0  0.6875  0.6250  0.7500  0.8750  0.6875  0.0  0.0  0.0000  ...   \n",
       "\n",
       "        X_54  X_55  X_56  X_57    X_58    X_59    X_60    X_61    X_62  X_63  \n",
       "0     0.3750   0.0   0.0   0.0  0.9375  1.0000  1.0000  0.6250  0.0000   0.0  \n",
       "1     0.0000   0.0   0.0   0.0  0.2500  1.0000  0.7500  0.0625  0.0000   0.0  \n",
       "2     0.0000   0.0   0.0   0.0  0.0000  0.0000  0.5625  0.3750  0.0000   0.0  \n",
       "3     0.0000   0.0   0.0   0.0  0.2500  0.9375  0.4375  0.0000  0.0000   0.0  \n",
       "4     0.0625   0.0   0.0   0.0  0.0000  0.0000  0.5000  0.8750  0.0000   0.0  \n",
       "...      ...   ...   ...   ...     ...     ...     ...     ...     ...   ...  \n",
       "1342  0.0000   0.0   0.0   0.0  0.0000  0.2500  1.0000  0.4375  0.0000   0.0  \n",
       "1343  0.0000   0.0   0.0   0.0  0.7500  0.4375  0.0000  0.0000  0.0000   0.0  \n",
       "1344  0.7500   0.0   0.0   0.0  0.1250  0.6875  1.0000  1.0000  0.5625   0.0  \n",
       "1345  0.0000   0.0   0.0   0.0  0.3125  0.8750  0.9375  0.2500  0.0000   0.0  \n",
       "1346  0.0000   0.0   0.0   0.0  0.5625  0.8750  0.5625  0.1250  0.0000   0.0  \n",
       "\n",
       "[1347 rows x 64 columns]"
      ]
     },
     "execution_count": 31,
     "metadata": {},
     "output_type": "execute_result"
    }
   ],
   "source": [
    "df = pd.DataFrame(x_train,columns=['X_%d'% i for i in range(x_train.shape[1])])\n",
    "df"
   ]
  },
  {
   "cell_type": "code",
   "execution_count": 32,
   "metadata": {},
   "outputs": [
    {
     "data": {
      "text/html": [
       "<div>\n",
       "<style scoped>\n",
       "    .dataframe tbody tr th:only-of-type {\n",
       "        vertical-align: middle;\n",
       "    }\n",
       "\n",
       "    .dataframe tbody tr th {\n",
       "        vertical-align: top;\n",
       "    }\n",
       "\n",
       "    .dataframe thead th {\n",
       "        text-align: right;\n",
       "    }\n",
       "</style>\n",
       "<table border=\"1\" class=\"dataframe\">\n",
       "  <thead>\n",
       "    <tr style=\"text-align: right;\">\n",
       "      <th></th>\n",
       "      <th>count</th>\n",
       "      <th>mean</th>\n",
       "      <th>std</th>\n",
       "      <th>min</th>\n",
       "      <th>25%</th>\n",
       "      <th>50%</th>\n",
       "      <th>75%</th>\n",
       "      <th>max</th>\n",
       "    </tr>\n",
       "  </thead>\n",
       "  <tbody>\n",
       "    <tr>\n",
       "      <th>X_0</th>\n",
       "      <td>1347.0</td>\n",
       "      <td>0.000000</td>\n",
       "      <td>0.000000</td>\n",
       "      <td>0.0</td>\n",
       "      <td>0.0000</td>\n",
       "      <td>0.0000</td>\n",
       "      <td>0.0000</td>\n",
       "      <td>0.0</td>\n",
       "    </tr>\n",
       "    <tr>\n",
       "      <th>X_1</th>\n",
       "      <td>1347.0</td>\n",
       "      <td>0.038512</td>\n",
       "      <td>0.113674</td>\n",
       "      <td>0.0</td>\n",
       "      <td>0.0000</td>\n",
       "      <td>0.0000</td>\n",
       "      <td>0.0000</td>\n",
       "      <td>1.0</td>\n",
       "    </tr>\n",
       "    <tr>\n",
       "      <th>X_2</th>\n",
       "      <td>1347.0</td>\n",
       "      <td>0.325863</td>\n",
       "      <td>0.296793</td>\n",
       "      <td>0.0</td>\n",
       "      <td>0.0625</td>\n",
       "      <td>0.2500</td>\n",
       "      <td>0.5625</td>\n",
       "      <td>1.0</td>\n",
       "    </tr>\n",
       "    <tr>\n",
       "      <th>X_3</th>\n",
       "      <td>1347.0</td>\n",
       "      <td>0.736405</td>\n",
       "      <td>0.269557</td>\n",
       "      <td>0.0</td>\n",
       "      <td>0.6250</td>\n",
       "      <td>0.8125</td>\n",
       "      <td>0.9375</td>\n",
       "      <td>1.0</td>\n",
       "    </tr>\n",
       "    <tr>\n",
       "      <th>X_4</th>\n",
       "      <td>1347.0</td>\n",
       "      <td>0.743458</td>\n",
       "      <td>0.267270</td>\n",
       "      <td>0.0</td>\n",
       "      <td>0.6250</td>\n",
       "      <td>0.8125</td>\n",
       "      <td>0.9375</td>\n",
       "      <td>1.0</td>\n",
       "    </tr>\n",
       "    <tr>\n",
       "      <th>...</th>\n",
       "      <td>...</td>\n",
       "      <td>...</td>\n",
       "      <td>...</td>\n",
       "      <td>...</td>\n",
       "      <td>...</td>\n",
       "      <td>...</td>\n",
       "      <td>...</td>\n",
       "      <td>...</td>\n",
       "    </tr>\n",
       "    <tr>\n",
       "      <th>X_59</th>\n",
       "      <td>1347.0</td>\n",
       "      <td>0.752227</td>\n",
       "      <td>0.278157</td>\n",
       "      <td>0.0</td>\n",
       "      <td>0.6250</td>\n",
       "      <td>0.8125</td>\n",
       "      <td>1.0000</td>\n",
       "      <td>1.0</td>\n",
       "    </tr>\n",
       "    <tr>\n",
       "      <th>X_60</th>\n",
       "      <td>1347.0</td>\n",
       "      <td>0.736359</td>\n",
       "      <td>0.310159</td>\n",
       "      <td>0.0</td>\n",
       "      <td>0.6250</td>\n",
       "      <td>0.8750</td>\n",
       "      <td>1.0000</td>\n",
       "      <td>1.0</td>\n",
       "    </tr>\n",
       "    <tr>\n",
       "      <th>X_61</th>\n",
       "      <td>1347.0</td>\n",
       "      <td>0.417919</td>\n",
       "      <td>0.365054</td>\n",
       "      <td>0.0</td>\n",
       "      <td>0.0000</td>\n",
       "      <td>0.3750</td>\n",
       "      <td>0.7500</td>\n",
       "      <td>1.0</td>\n",
       "    </tr>\n",
       "    <tr>\n",
       "      <th>X_62</th>\n",
       "      <td>1347.0</td>\n",
       "      <td>0.121334</td>\n",
       "      <td>0.248453</td>\n",
       "      <td>0.0</td>\n",
       "      <td>0.0000</td>\n",
       "      <td>0.0000</td>\n",
       "      <td>0.0625</td>\n",
       "      <td>1.0</td>\n",
       "    </tr>\n",
       "    <tr>\n",
       "      <th>X_63</th>\n",
       "      <td>1347.0</td>\n",
       "      <td>0.020973</td>\n",
       "      <td>0.113492</td>\n",
       "      <td>0.0</td>\n",
       "      <td>0.0000</td>\n",
       "      <td>0.0000</td>\n",
       "      <td>0.0000</td>\n",
       "      <td>1.0</td>\n",
       "    </tr>\n",
       "  </tbody>\n",
       "</table>\n",
       "<p>64 rows × 8 columns</p>\n",
       "</div>"
      ],
      "text/plain": [
       "       count      mean       std  min     25%     50%     75%  max\n",
       "X_0   1347.0  0.000000  0.000000  0.0  0.0000  0.0000  0.0000  0.0\n",
       "X_1   1347.0  0.038512  0.113674  0.0  0.0000  0.0000  0.0000  1.0\n",
       "X_2   1347.0  0.325863  0.296793  0.0  0.0625  0.2500  0.5625  1.0\n",
       "X_3   1347.0  0.736405  0.269557  0.0  0.6250  0.8125  0.9375  1.0\n",
       "X_4   1347.0  0.743458  0.267270  0.0  0.6250  0.8125  0.9375  1.0\n",
       "...      ...       ...       ...  ...     ...     ...     ...  ...\n",
       "X_59  1347.0  0.752227  0.278157  0.0  0.6250  0.8125  1.0000  1.0\n",
       "X_60  1347.0  0.736359  0.310159  0.0  0.6250  0.8750  1.0000  1.0\n",
       "X_61  1347.0  0.417919  0.365054  0.0  0.0000  0.3750  0.7500  1.0\n",
       "X_62  1347.0  0.121334  0.248453  0.0  0.0000  0.0000  0.0625  1.0\n",
       "X_63  1347.0  0.020973  0.113492  0.0  0.0000  0.0000  0.0000  1.0\n",
       "\n",
       "[64 rows x 8 columns]"
      ]
     },
     "execution_count": 32,
     "metadata": {},
     "output_type": "execute_result"
    }
   ],
   "source": [
    "desc = df.describe().T\n",
    "desc"
   ]
  },
  {
   "cell_type": "code",
   "execution_count": 33,
   "metadata": {},
   "outputs": [
    {
     "data": {
      "text/plain": [
       "count    1347.000000\n",
       "mean        0.640497\n",
       "std         0.376634\n",
       "min         0.000000\n",
       "25%         0.312500\n",
       "50%         0.812500\n",
       "75%         1.000000\n",
       "max         1.000000\n",
       "Name: X_36, dtype: float64"
      ]
     },
     "execution_count": 33,
     "metadata": {},
     "output_type": "execute_result"
    }
   ],
   "source": [
    "desc.loc['X_36']"
   ]
  },
  {
   "cell_type": "code",
   "execution_count": null,
   "metadata": {},
   "outputs": [],
   "source": [
    "根节点总基尼系数\n",
    "决策树可视化文件中根节点的内容如下：\n",
    "X[36] <= 0.031\n",
    "gini = 0.9\n",
    "samples = 1347\n",
    "value = [134, 131, 128, 146, 131, 135, 127, 138, 134, 143]\n",
    "\n",
    "第一行代表X的第36个特征中是否 <= 0.031；gini是总的基尼系数；samples代表总样本数；value代表每个label中的样本数。"
   ]
  },
  {
   "cell_type": "code",
   "execution_count": 34,
   "metadata": {},
   "outputs": [
    {
     "data": {
      "text/plain": [
       "(1347,)"
      ]
     },
     "execution_count": 34,
     "metadata": {},
     "output_type": "execute_result"
    }
   ],
   "source": [
    "sr = pd.Series(y_train)\n",
    "sr.shape"
   ]
  },
  {
   "cell_type": "code",
   "execution_count": 35,
   "metadata": {},
   "outputs": [
    {
     "data": {
      "text/plain": [
       "0    134\n",
       "1    131\n",
       "2    128\n",
       "3    146\n",
       "4    131\n",
       "5    135\n",
       "6    127\n",
       "7    138\n",
       "8    134\n",
       "9    143\n",
       "dtype: int64"
      ]
     },
     "execution_count": 35,
     "metadata": {},
     "output_type": "execute_result"
    }
   ],
   "source": [
    "#y_train中每个label的样本数量，按label排序\n",
    "sr.value_counts().sort_index()"
   ]
  },
  {
   "cell_type": "code",
   "execution_count": 36,
   "metadata": {},
   "outputs": [],
   "source": [
    "y_value_counts = sr.value_counts().sort_index()"
   ]
  },
  {
   "cell_type": "code",
   "execution_count": 37,
   "metadata": {},
   "outputs": [
    {
     "data": {
      "text/plain": [
       "0.89981255604442"
      ]
     },
     "execution_count": 37,
     "metadata": {},
     "output_type": "execute_result"
    }
   ],
   "source": [
    "#总基尼系数\n",
    "gini = 1- sum([(n / N ) ** 2 for n in y_value_counts])\n",
    "gini"
   ]
  },
  {
   "cell_type": "code",
   "execution_count": null,
   "metadata": {},
   "outputs": [],
   "source": [
    "\n",
    "第二层节点\n",
    "第二层左节点：gini是当特征X_36>0.031时label的基尼系数；samples代表当特征X_36>0.031时的总样本数；value代表当特征X_36>0.031时每个label中的样本数。\n",
    "X[28] <= 0.156\n",
    "gini = 0.569\n",
    "samples = 218\n",
    "value = [132, 0, 4, 0, 5, 20, 4, 0, 2, 51]\n",
    "第二层右节点：gini是当特征X_36<=0.031时label的基尼系数；samples代表当特征X_36<=0.031时的总样本数；value代表当特征X_36<=0.031时每个label中的样本数。\n",
    "X[21] <= 0.031\n",
    "gini = 0.888\n",
    "samples = 1129\n",
    "value = [2, 131, 124, 146, 126, 115, 123, 138, 132, 92]"
   ]
  },
  {
   "cell_type": "code",
   "execution_count": 38,
   "metadata": {},
   "outputs": [
    {
     "data": {
      "text/plain": [
       "count    1347.00000\n",
       "mean        0.62500\n",
       "std         0.38502\n",
       "min         0.00000\n",
       "25%         0.25000\n",
       "50%         0.81250\n",
       "75%         1.00000\n",
       "max         1.00000\n",
       "Name: X_28, dtype: float64"
      ]
     },
     "execution_count": 38,
     "metadata": {},
     "output_type": "execute_result"
    }
   ],
   "source": [
    "desc.loc['X_28']"
   ]
  },
  {
   "cell_type": "code",
   "execution_count": 39,
   "metadata": {},
   "outputs": [
    {
     "data": {
      "text/plain": [
       "count    1347.000000\n",
       "mean        0.499490\n",
       "std         0.385754\n",
       "min         0.000000\n",
       "25%         0.000000\n",
       "50%         0.562500\n",
       "75%         0.875000\n",
       "max         1.000000\n",
       "Name: X_21, dtype: float64"
      ]
     },
     "execution_count": 39,
     "metadata": {},
     "output_type": "execute_result"
    }
   ],
   "source": [
    "desc.loc['X_21']"
   ]
  },
  {
   "cell_type": "code",
   "execution_count": 40,
   "metadata": {},
   "outputs": [
    {
     "data": {
      "text/plain": [
       "1129"
      ]
     },
     "execution_count": 40,
     "metadata": {},
     "output_type": "execute_result"
    }
   ],
   "source": [
    "# f['X_36'] > 0.031 的样本数有1129个\n",
    "(df['X_36'] > 0.031).sum()"
   ]
  },
  {
   "cell_type": "code",
   "execution_count": 41,
   "metadata": {},
   "outputs": [
    {
     "data": {
      "text/plain": [
       "218"
      ]
     },
     "execution_count": 41,
     "metadata": {},
     "output_type": "execute_result"
    }
   ],
   "source": [
    "(df['X_36'] <= 0.031).sum()"
   ]
  },
  {
   "cell_type": "code",
   "execution_count": 42,
   "metadata": {},
   "outputs": [],
   "source": [
    "df['label'] = sr"
   ]
  },
  {
   "cell_type": "code",
   "execution_count": 43,
   "metadata": {},
   "outputs": [
    {
     "data": {
      "text/plain": [
       "0      2\n",
       "1    131\n",
       "2    124\n",
       "3    146\n",
       "4    126\n",
       "5    115\n",
       "6    123\n",
       "7    138\n",
       "8    132\n",
       "9     92\n",
       "dtype: int64"
      ]
     },
     "execution_count": 43,
     "metadata": {},
     "output_type": "execute_result"
    }
   ],
   "source": [
    "node_2_right_value = sr[df['X_36'] > 0.031].value_counts()\n",
    "node_2_right_value.sort_index()"
   ]
  },
  {
   "cell_type": "code",
   "execution_count": 44,
   "metadata": {},
   "outputs": [
    {
     "data": {
      "text/plain": [
       "0.8877966423487084"
      ]
     },
     "execution_count": 44,
     "metadata": {},
     "output_type": "execute_result"
    }
   ],
   "source": [
    "#第二层右节点的gini系数值0.888\n",
    "1 - sum((n / node_2_right_value.sum()) ** 2 for n in node_2_right_value)"
   ]
  },
  {
   "cell_type": "code",
   "execution_count": 45,
   "metadata": {},
   "outputs": [
    {
     "data": {
      "text/plain": [
       "0    132\n",
       "2      4\n",
       "4      5\n",
       "5     20\n",
       "6      4\n",
       "8      2\n",
       "9     51\n",
       "dtype: int64"
      ]
     },
     "execution_count": 45,
     "metadata": {},
     "output_type": "execute_result"
    }
   ],
   "source": [
    "node_2_left_value = sr[df['X_36'] <= 0.031].value_counts()\n",
    "node_2_left_value.sort_index()"
   ]
  },
  {
   "cell_type": "code",
   "execution_count": 46,
   "metadata": {},
   "outputs": [
    {
     "data": {
      "text/plain": [
       "0.5689335914485312"
      ]
     },
     "execution_count": 46,
     "metadata": {},
     "output_type": "execute_result"
    }
   ],
   "source": [
    "#第二层左节点的gini系数值0.569\n",
    "1 - sum((n / node_2_left_value.sum()) ** 2 for n in node_2_left_value)"
   ]
  },
  {
   "cell_type": "code",
   "execution_count": null,
   "metadata": {},
   "outputs": [],
   "source": [
    "可以得出：\n",
    "\n",
    "根节点除第一行外，显示的都是样本总体的基尼系数、总样本数和label样本数；每个节点中第一行的特征的大小，决定了下一个节点中的gini系数、sample和value。也就是，第一行特征划分出的样本数、基尼系数、label数都在下一行的2个节点中体现。\n",
    "每个结点特征<=某个值，并不是四分位数或中位数\n",
    "验证下其他节点的基尼系数是否大于目前的根节点\n",
    "假如X[28] <= 0.156作为根节点"
   ]
  },
  {
   "cell_type": "code",
   "execution_count": 47,
   "metadata": {},
   "outputs": [
    {
     "data": {
      "text/html": [
       "<div>\n",
       "<style scoped>\n",
       "    .dataframe tbody tr th:only-of-type {\n",
       "        vertical-align: middle;\n",
       "    }\n",
       "\n",
       "    .dataframe tbody tr th {\n",
       "        vertical-align: top;\n",
       "    }\n",
       "\n",
       "    .dataframe thead th {\n",
       "        text-align: right;\n",
       "    }\n",
       "</style>\n",
       "<table border=\"1\" class=\"dataframe\">\n",
       "  <thead>\n",
       "    <tr style=\"text-align: right;\">\n",
       "      <th></th>\n",
       "      <th>X_0</th>\n",
       "      <th>X_1</th>\n",
       "      <th>X_2</th>\n",
       "      <th>X_3</th>\n",
       "      <th>X_4</th>\n",
       "      <th>X_5</th>\n",
       "      <th>X_6</th>\n",
       "      <th>X_7</th>\n",
       "      <th>X_8</th>\n",
       "      <th>X_9</th>\n",
       "      <th>...</th>\n",
       "      <th>X_55</th>\n",
       "      <th>X_56</th>\n",
       "      <th>X_57</th>\n",
       "      <th>X_58</th>\n",
       "      <th>X_59</th>\n",
       "      <th>X_60</th>\n",
       "      <th>X_61</th>\n",
       "      <th>X_62</th>\n",
       "      <th>X_63</th>\n",
       "      <th>label</th>\n",
       "    </tr>\n",
       "  </thead>\n",
       "  <tbody>\n",
       "    <tr>\n",
       "      <th>0</th>\n",
       "      <td>0.0</td>\n",
       "      <td>0.0</td>\n",
       "      <td>0.8125</td>\n",
       "      <td>1.0000</td>\n",
       "      <td>1.0000</td>\n",
       "      <td>0.3125</td>\n",
       "      <td>0.0000</td>\n",
       "      <td>0.0</td>\n",
       "      <td>0.0</td>\n",
       "      <td>0.3125</td>\n",
       "      <td>...</td>\n",
       "      <td>0.0</td>\n",
       "      <td>0.0</td>\n",
       "      <td>0.0</td>\n",
       "      <td>0.9375</td>\n",
       "      <td>1.0000</td>\n",
       "      <td>1.0000</td>\n",
       "      <td>0.6250</td>\n",
       "      <td>0.0000</td>\n",
       "      <td>0.0</td>\n",
       "      <td>3</td>\n",
       "    </tr>\n",
       "    <tr>\n",
       "      <th>1</th>\n",
       "      <td>0.0</td>\n",
       "      <td>0.0</td>\n",
       "      <td>0.1250</td>\n",
       "      <td>0.6875</td>\n",
       "      <td>0.9375</td>\n",
       "      <td>0.1250</td>\n",
       "      <td>0.0000</td>\n",
       "      <td>0.0</td>\n",
       "      <td>0.0</td>\n",
       "      <td>0.0000</td>\n",
       "      <td>...</td>\n",
       "      <td>0.0</td>\n",
       "      <td>0.0</td>\n",
       "      <td>0.0</td>\n",
       "      <td>0.2500</td>\n",
       "      <td>1.0000</td>\n",
       "      <td>0.7500</td>\n",
       "      <td>0.0625</td>\n",
       "      <td>0.0000</td>\n",
       "      <td>0.0</td>\n",
       "      <td>0</td>\n",
       "    </tr>\n",
       "    <tr>\n",
       "      <th>2</th>\n",
       "      <td>0.0</td>\n",
       "      <td>0.0</td>\n",
       "      <td>0.0000</td>\n",
       "      <td>0.0625</td>\n",
       "      <td>0.4375</td>\n",
       "      <td>0.9375</td>\n",
       "      <td>0.6875</td>\n",
       "      <td>0.0</td>\n",
       "      <td>0.0</td>\n",
       "      <td>0.0000</td>\n",
       "      <td>...</td>\n",
       "      <td>0.0</td>\n",
       "      <td>0.0</td>\n",
       "      <td>0.0</td>\n",
       "      <td>0.0000</td>\n",
       "      <td>0.0000</td>\n",
       "      <td>0.5625</td>\n",
       "      <td>0.3750</td>\n",
       "      <td>0.0000</td>\n",
       "      <td>0.0</td>\n",
       "      <td>9</td>\n",
       "    </tr>\n",
       "    <tr>\n",
       "      <th>3</th>\n",
       "      <td>0.0</td>\n",
       "      <td>0.0</td>\n",
       "      <td>0.1250</td>\n",
       "      <td>0.9375</td>\n",
       "      <td>0.9375</td>\n",
       "      <td>1.0000</td>\n",
       "      <td>0.6875</td>\n",
       "      <td>0.0</td>\n",
       "      <td>0.0</td>\n",
       "      <td>0.0000</td>\n",
       "      <td>...</td>\n",
       "      <td>0.0</td>\n",
       "      <td>0.0</td>\n",
       "      <td>0.0</td>\n",
       "      <td>0.2500</td>\n",
       "      <td>0.9375</td>\n",
       "      <td>0.4375</td>\n",
       "      <td>0.0000</td>\n",
       "      <td>0.0000</td>\n",
       "      <td>0.0</td>\n",
       "      <td>5</td>\n",
       "    </tr>\n",
       "    <tr>\n",
       "      <th>4</th>\n",
       "      <td>0.0</td>\n",
       "      <td>0.0</td>\n",
       "      <td>0.0000</td>\n",
       "      <td>0.0000</td>\n",
       "      <td>0.3125</td>\n",
       "      <td>0.9375</td>\n",
       "      <td>0.5000</td>\n",
       "      <td>0.0</td>\n",
       "      <td>0.0</td>\n",
       "      <td>0.0000</td>\n",
       "      <td>...</td>\n",
       "      <td>0.0</td>\n",
       "      <td>0.0</td>\n",
       "      <td>0.0</td>\n",
       "      <td>0.0000</td>\n",
       "      <td>0.0000</td>\n",
       "      <td>0.5000</td>\n",
       "      <td>0.8750</td>\n",
       "      <td>0.0000</td>\n",
       "      <td>0.0</td>\n",
       "      <td>1</td>\n",
       "    </tr>\n",
       "    <tr>\n",
       "      <th>...</th>\n",
       "      <td>...</td>\n",
       "      <td>...</td>\n",
       "      <td>...</td>\n",
       "      <td>...</td>\n",
       "      <td>...</td>\n",
       "      <td>...</td>\n",
       "      <td>...</td>\n",
       "      <td>...</td>\n",
       "      <td>...</td>\n",
       "      <td>...</td>\n",
       "      <td>...</td>\n",
       "      <td>...</td>\n",
       "      <td>...</td>\n",
       "      <td>...</td>\n",
       "      <td>...</td>\n",
       "      <td>...</td>\n",
       "      <td>...</td>\n",
       "      <td>...</td>\n",
       "      <td>...</td>\n",
       "      <td>...</td>\n",
       "      <td>...</td>\n",
       "    </tr>\n",
       "    <tr>\n",
       "      <th>1342</th>\n",
       "      <td>0.0</td>\n",
       "      <td>0.0</td>\n",
       "      <td>0.0000</td>\n",
       "      <td>0.1250</td>\n",
       "      <td>0.8750</td>\n",
       "      <td>0.3125</td>\n",
       "      <td>0.0000</td>\n",
       "      <td>0.0</td>\n",
       "      <td>0.0</td>\n",
       "      <td>0.0000</td>\n",
       "      <td>...</td>\n",
       "      <td>0.0</td>\n",
       "      <td>0.0</td>\n",
       "      <td>0.0</td>\n",
       "      <td>0.0000</td>\n",
       "      <td>0.2500</td>\n",
       "      <td>1.0000</td>\n",
       "      <td>0.4375</td>\n",
       "      <td>0.0000</td>\n",
       "      <td>0.0</td>\n",
       "      <td>4</td>\n",
       "    </tr>\n",
       "    <tr>\n",
       "      <th>1343</th>\n",
       "      <td>0.0</td>\n",
       "      <td>0.0</td>\n",
       "      <td>0.5000</td>\n",
       "      <td>0.8750</td>\n",
       "      <td>1.0000</td>\n",
       "      <td>1.0000</td>\n",
       "      <td>0.1250</td>\n",
       "      <td>0.0</td>\n",
       "      <td>0.0</td>\n",
       "      <td>0.0000</td>\n",
       "      <td>...</td>\n",
       "      <td>0.0</td>\n",
       "      <td>0.0</td>\n",
       "      <td>0.0</td>\n",
       "      <td>0.7500</td>\n",
       "      <td>0.4375</td>\n",
       "      <td>0.0000</td>\n",
       "      <td>0.0000</td>\n",
       "      <td>0.0000</td>\n",
       "      <td>0.0</td>\n",
       "      <td>7</td>\n",
       "    </tr>\n",
       "    <tr>\n",
       "      <th>1344</th>\n",
       "      <td>0.0</td>\n",
       "      <td>0.0</td>\n",
       "      <td>0.1875</td>\n",
       "      <td>0.6250</td>\n",
       "      <td>0.8750</td>\n",
       "      <td>0.1875</td>\n",
       "      <td>0.0000</td>\n",
       "      <td>0.0</td>\n",
       "      <td>0.0</td>\n",
       "      <td>0.5000</td>\n",
       "      <td>...</td>\n",
       "      <td>0.0</td>\n",
       "      <td>0.0</td>\n",
       "      <td>0.0</td>\n",
       "      <td>0.1250</td>\n",
       "      <td>0.6875</td>\n",
       "      <td>1.0000</td>\n",
       "      <td>1.0000</td>\n",
       "      <td>0.5625</td>\n",
       "      <td>0.0</td>\n",
       "      <td>8</td>\n",
       "    </tr>\n",
       "    <tr>\n",
       "      <th>1345</th>\n",
       "      <td>0.0</td>\n",
       "      <td>0.0</td>\n",
       "      <td>0.3750</td>\n",
       "      <td>0.8750</td>\n",
       "      <td>0.6875</td>\n",
       "      <td>0.0625</td>\n",
       "      <td>0.0000</td>\n",
       "      <td>0.0</td>\n",
       "      <td>0.0</td>\n",
       "      <td>0.0000</td>\n",
       "      <td>...</td>\n",
       "      <td>0.0</td>\n",
       "      <td>0.0</td>\n",
       "      <td>0.0</td>\n",
       "      <td>0.3125</td>\n",
       "      <td>0.8750</td>\n",
       "      <td>0.9375</td>\n",
       "      <td>0.2500</td>\n",
       "      <td>0.0000</td>\n",
       "      <td>0.0</td>\n",
       "      <td>0</td>\n",
       "    </tr>\n",
       "    <tr>\n",
       "      <th>1346</th>\n",
       "      <td>0.0</td>\n",
       "      <td>0.0</td>\n",
       "      <td>0.6875</td>\n",
       "      <td>0.6250</td>\n",
       "      <td>0.7500</td>\n",
       "      <td>0.8750</td>\n",
       "      <td>0.6875</td>\n",
       "      <td>0.0</td>\n",
       "      <td>0.0</td>\n",
       "      <td>0.0000</td>\n",
       "      <td>...</td>\n",
       "      <td>0.0</td>\n",
       "      <td>0.0</td>\n",
       "      <td>0.0</td>\n",
       "      <td>0.5625</td>\n",
       "      <td>0.8750</td>\n",
       "      <td>0.5625</td>\n",
       "      <td>0.1250</td>\n",
       "      <td>0.0000</td>\n",
       "      <td>0.0</td>\n",
       "      <td>5</td>\n",
       "    </tr>\n",
       "  </tbody>\n",
       "</table>\n",
       "<p>1347 rows × 65 columns</p>\n",
       "</div>"
      ],
      "text/plain": [
       "      X_0  X_1     X_2     X_3     X_4     X_5     X_6  X_7  X_8     X_9  ...  \\\n",
       "0     0.0  0.0  0.8125  1.0000  1.0000  0.3125  0.0000  0.0  0.0  0.3125  ...   \n",
       "1     0.0  0.0  0.1250  0.6875  0.9375  0.1250  0.0000  0.0  0.0  0.0000  ...   \n",
       "2     0.0  0.0  0.0000  0.0625  0.4375  0.9375  0.6875  0.0  0.0  0.0000  ...   \n",
       "3     0.0  0.0  0.1250  0.9375  0.9375  1.0000  0.6875  0.0  0.0  0.0000  ...   \n",
       "4     0.0  0.0  0.0000  0.0000  0.3125  0.9375  0.5000  0.0  0.0  0.0000  ...   \n",
       "...   ...  ...     ...     ...     ...     ...     ...  ...  ...     ...  ...   \n",
       "1342  0.0  0.0  0.0000  0.1250  0.8750  0.3125  0.0000  0.0  0.0  0.0000  ...   \n",
       "1343  0.0  0.0  0.5000  0.8750  1.0000  1.0000  0.1250  0.0  0.0  0.0000  ...   \n",
       "1344  0.0  0.0  0.1875  0.6250  0.8750  0.1875  0.0000  0.0  0.0  0.5000  ...   \n",
       "1345  0.0  0.0  0.3750  0.8750  0.6875  0.0625  0.0000  0.0  0.0  0.0000  ...   \n",
       "1346  0.0  0.0  0.6875  0.6250  0.7500  0.8750  0.6875  0.0  0.0  0.0000  ...   \n",
       "\n",
       "      X_55  X_56  X_57    X_58    X_59    X_60    X_61    X_62  X_63  label  \n",
       "0      0.0   0.0   0.0  0.9375  1.0000  1.0000  0.6250  0.0000   0.0      3  \n",
       "1      0.0   0.0   0.0  0.2500  1.0000  0.7500  0.0625  0.0000   0.0      0  \n",
       "2      0.0   0.0   0.0  0.0000  0.0000  0.5625  0.3750  0.0000   0.0      9  \n",
       "3      0.0   0.0   0.0  0.2500  0.9375  0.4375  0.0000  0.0000   0.0      5  \n",
       "4      0.0   0.0   0.0  0.0000  0.0000  0.5000  0.8750  0.0000   0.0      1  \n",
       "...    ...   ...   ...     ...     ...     ...     ...     ...   ...    ...  \n",
       "1342   0.0   0.0   0.0  0.0000  0.2500  1.0000  0.4375  0.0000   0.0      4  \n",
       "1343   0.0   0.0   0.0  0.7500  0.4375  0.0000  0.0000  0.0000   0.0      7  \n",
       "1344   0.0   0.0   0.0  0.1250  0.6875  1.0000  1.0000  0.5625   0.0      8  \n",
       "1345   0.0   0.0   0.0  0.3125  0.8750  0.9375  0.2500  0.0000   0.0      0  \n",
       "1346   0.0   0.0   0.0  0.5625  0.8750  0.5625  0.1250  0.0000   0.0      5  \n",
       "\n",
       "[1347 rows x 65 columns]"
      ]
     },
     "execution_count": 47,
     "metadata": {},
     "output_type": "execute_result"
    }
   ],
   "source": [
    "#总基尼系数仍然是0.9。分析它决定的左孩子和右孩子的基尼系数\n",
    "df"
   ]
  },
  {
   "cell_type": "code",
   "execution_count": 48,
   "metadata": {},
   "outputs": [
    {
     "data": {
      "text/plain": [
       "300"
      ]
     },
     "execution_count": 48,
     "metadata": {},
     "output_type": "execute_result"
    }
   ],
   "source": [
    "(df['X_28'] <= 0.156).sum()"
   ]
  },
  {
   "cell_type": "code",
   "execution_count": 49,
   "metadata": {},
   "outputs": [
    {
     "data": {
      "text/plain": [
       "1047"
      ]
     },
     "execution_count": 49,
     "metadata": {},
     "output_type": "execute_result"
    }
   ],
   "source": [
    "#右节点samples\n",
    "(df['X_28'] > 0.156).sum()"
   ]
  },
  {
   "cell_type": "code",
   "execution_count": 50,
   "metadata": {},
   "outputs": [
    {
     "data": {
      "text/plain": [
       "0    133\n",
       "1      1\n",
       "2      6\n",
       "3      3\n",
       "4     47\n",
       "5     29\n",
       "6     69\n",
       "7      8\n",
       "8      3\n",
       "9      1\n",
       "Name: label, dtype: int64"
      ]
     },
     "execution_count": 50,
     "metadata": {},
     "output_type": "execute_result"
    }
   ],
   "source": [
    "#左节点value\n",
    "node_2_left_value = df['label'][df['X_28'] <= 0.156].value_counts()\n",
    "node_2_left_value.sort_index()"
   ]
  },
  {
   "cell_type": "code",
   "execution_count": 51,
   "metadata": {},
   "outputs": [
    {
     "data": {
      "text/plain": [
       "0.7153333333333334"
      ]
     },
     "execution_count": 51,
     "metadata": {},
     "output_type": "execute_result"
    }
   ],
   "source": [
    "#左孩子的基尼系数\n",
    "1 - sum((n / node_2_left_value.sum()) ** 2 for n in node_2_left_value)"
   ]
  },
  {
   "cell_type": "code",
   "execution_count": 52,
   "metadata": {},
   "outputs": [
    {
     "data": {
      "text/plain": [
       "0      1\n",
       "1    130\n",
       "2    122\n",
       "3    143\n",
       "4     84\n",
       "5    106\n",
       "6     58\n",
       "7    130\n",
       "8    131\n",
       "9    142\n",
       "Name: label, dtype: int64"
      ]
     },
     "execution_count": 52,
     "metadata": {},
     "output_type": "execute_result"
    }
   ],
   "source": [
    "#右节点value\n",
    "node_2_right_value = df['label'][df['X_28'] > 0.156].value_counts()\n",
    "node_2_right_value.sort_index()"
   ]
  },
  {
   "cell_type": "code",
   "execution_count": 53,
   "metadata": {},
   "outputs": [
    {
     "data": {
      "text/plain": [
       "1047"
      ]
     },
     "execution_count": 53,
     "metadata": {},
     "output_type": "execute_result"
    }
   ],
   "source": [
    "node_2_right_value.sum()"
   ]
  },
  {
   "cell_type": "code",
   "execution_count": 54,
   "metadata": {},
   "outputs": [
    {
     "data": {
      "text/plain": [
       "0.8831290383494389"
      ]
     },
     "execution_count": 54,
     "metadata": {},
     "output_type": "execute_result"
    }
   ],
   "source": [
    "#右孩子的基尼系数\n",
    "1 - sum((n / node_2_right_value.sum()) ** 2 for n in node_2_right_value)\n",
    "#选择的标准：是在所有可能的特征A以及它们所有可能的切分点a中，选择基尼指数最小的特征及其对应的切分点作为最优特征与最优切分点。依最优特征与最优切分点,从现结点生成两个子结点,将训练数据集依特征分配到两个子结点中去。\n",
    "#与X[36] <= 0.031作为根节点相比，X[28] <= 0.156做根节点时，左孩子的基尼系数大于了X[36] <= 0.031的左孩子的基尼系数0.569。二者相比，X[36] <= 0.031更适合做根节点。"
   ]
  },
  {
   "cell_type": "code",
   "execution_count": null,
   "metadata": {},
   "outputs": [],
   "source": [
    "特征重要性的计算--未成功推导出\n",
    "如果每个特征只被使用一次，那么featureimportances应当就是这个Gini importance：\n",
    "\n",
    "N_t / N * (impurity - N_t_R / N_t * right_impurity - N_t_L / N_t * left_impurity)\n",
    "\n",
    "其中，N是样本的总数，N_t是当前节点的样本数目，N_t_L是结点左孩子的样本数目，N_t_R是结点右孩子的样本数目。impurity直译为不纯度（基尼指数或信息熵），这里的实现的是基尼指数。"
   ]
  },
  {
   "cell_type": "code",
   "execution_count": 55,
   "metadata": {},
   "outputs": [
    {
     "data": {
      "text/plain": [
       "array([0.        , 0.01087691, 0.        , 0.        , 0.01000771,\n",
       "       0.03892517, 0.00266332, 0.00442418, 0.00161759, 0.00412525,\n",
       "       0.00512906, 0.0016501 , 0.00425294, 0.01473198, 0.00082505,\n",
       "       0.        , 0.        , 0.00123758, 0.01155984, 0.02522066,\n",
       "       0.05415936, 0.08281241, 0.        , 0.        , 0.        ,\n",
       "       0.00162305, 0.07636993, 0.04634309, 0.05791402, 0.00544033,\n",
       "       0.01487322, 0.        , 0.        , 0.05113273, 0.01787237,\n",
       "       0.0051784 , 0.07459433, 0.03054113, 0.00953599, 0.        ,\n",
       "       0.        , 0.01219702, 0.08933728, 0.0561104 , 0.01733228,\n",
       "       0.00509998, 0.00295643, 0.        , 0.        , 0.        ,\n",
       "       0.00635548, 0.00743226, 0.00404733, 0.01326413, 0.02397377,\n",
       "       0.        , 0.        , 0.00297018, 0.00570801, 0.01465981,\n",
       "       0.06131626, 0.00234505, 0.0015841 , 0.00767254])"
      ]
     },
     "execution_count": 55,
     "metadata": {},
     "output_type": "execute_result"
    }
   ],
   "source": [
    "estimator.feature_importances_"
   ]
  },
  {
   "cell_type": "code",
   "execution_count": 56,
   "metadata": {},
   "outputs": [
    {
     "data": {
      "text/plain": [
       "0.09356191839656411"
      ]
     },
     "execution_count": 56,
     "metadata": {},
     "output_type": "execute_result"
    }
   ],
   "source": [
    "#max_depth最大深度为2时：\n",
    "# 特征X_36的特征重要性 总样本1397 当前节点样本数1397 总基尼0.9 左孩子样本数218 左孩子基尼数0.569 右孩子1129 右孩子基尼数0.888\n",
    "1397 / 1397 * (0.9 - 1129 / 1397 * 0.888 - 218 / 1397 * 0.569)"
   ]
  },
  {
   "cell_type": "code",
   "execution_count": 57,
   "metadata": {},
   "outputs": [
    {
     "data": {
      "text/plain": [
       "0.04605440229062275"
      ]
     },
     "execution_count": 57,
     "metadata": {},
     "output_type": "execute_result"
    }
   ],
   "source": [
    "218 / 1397 * (0.569 - 144 / 218 * 0.17 - 74 / 218 * 0.476)"
   ]
  },
  {
   "cell_type": "code",
   "execution_count": 58,
   "metadata": {},
   "outputs": [
    {
     "data": {
      "text/plain": [
       "0.4655932746767357"
      ]
     },
     "execution_count": 58,
     "metadata": {},
     "output_type": "execute_result"
    }
   ],
   "source": [
    "(0.09356191839656411)/ (0.09356191839656411 + 0.04605440229062275 + 0.061335719398711575)"
   ]
  },
  {
   "cell_type": "code",
   "execution_count": 59,
   "metadata": {},
   "outputs": [
    {
     "data": {
      "text/plain": [
       "0.22918106365546953"
      ]
     },
     "execution_count": 59,
     "metadata": {},
     "output_type": "execute_result"
    }
   ],
   "source": [
    "0.04605440229062275 / (0.09356191839656411 + 0.04605440229062275 + 0.061335719398711575)"
   ]
  },
  {
   "cell_type": "code",
   "execution_count": 60,
   "metadata": {},
   "outputs": [
    {
     "data": {
      "text/plain": [
       "0.3052256616677948"
      ]
     },
     "execution_count": 60,
     "metadata": {},
     "output_type": "execute_result"
    }
   ],
   "source": [
    "0.061335719398711575 / (0.09356191839656411 + 0.04605440229062275 + 0.061335719398711575)"
   ]
  },
  {
   "cell_type": "code",
   "execution_count": null,
   "metadata": {},
   "outputs": [],
   "source": [
    "去掉前面特征重要程度0的特征重新训练"
   ]
  },
  {
   "cell_type": "code",
   "execution_count": 76,
   "metadata": {},
   "outputs": [
    {
     "data": {
      "text/plain": [
       "array([ 0,  1,  2,  3,  4,  5,  6,  7,  8,  9, 10, 11, 12, 13, 14, 15, 16,\n",
       "       17, 18, 19, 20, 21, 22, 23, 24, 25, 26, 27, 28, 29, 30, 31, 32, 33,\n",
       "       34, 35, 36, 37, 38, 39, 40, 41, 42, 43, 44, 45, 46, 47, 48, 49, 50,\n",
       "       51, 52, 53, 54, 55, 56, 57, 58, 59, 60, 61, 62, 63])"
      ]
     },
     "execution_count": 76,
     "metadata": {},
     "output_type": "execute_result"
    }
   ],
   "source": [
    "#重新训练时，每次运行均使用默认参数\n",
    "feature_clip = np.arange(64)\n",
    "feature_clip"
   ]
  },
  {
   "cell_type": "code",
   "execution_count": 77,
   "metadata": {},
   "outputs": [
    {
     "data": {
      "text/plain": [
       "array([0.        , 0.01087691, 0.        , 0.        , 0.01000771,\n",
       "       0.03892517, 0.00266332, 0.00442418, 0.00161759, 0.00412525,\n",
       "       0.00512906, 0.0016501 , 0.00425294, 0.01473198, 0.00082505,\n",
       "       0.        , 0.        , 0.00123758, 0.01155984, 0.02522066,\n",
       "       0.05415936, 0.08281241, 0.        , 0.        , 0.        ,\n",
       "       0.00162305, 0.07636993, 0.04634309, 0.05791402, 0.00544033,\n",
       "       0.01487322, 0.        , 0.        , 0.05113273, 0.01787237,\n",
       "       0.0051784 , 0.07459433, 0.03054113, 0.00953599, 0.        ,\n",
       "       0.        , 0.01219702, 0.08933728, 0.0561104 , 0.01733228,\n",
       "       0.00509998, 0.00295643, 0.        , 0.        , 0.        ,\n",
       "       0.00635548, 0.00743226, 0.00404733, 0.01326413, 0.02397377,\n",
       "       0.        , 0.        , 0.00297018, 0.00570801, 0.01465981,\n",
       "       0.06131626, 0.00234505, 0.0015841 , 0.00767254])"
      ]
     },
     "execution_count": 77,
     "metadata": {},
     "output_type": "execute_result"
    }
   ],
   "source": [
    "estimator.feature_importances_"
   ]
  },
  {
   "cell_type": "code",
   "execution_count": 78,
   "metadata": {},
   "outputs": [
    {
     "data": {
      "text/plain": [
       "array([ 1,  4,  5,  6,  7,  8,  9, 10, 11, 12, 13, 14, 17, 18, 19, 20, 21,\n",
       "       25, 26, 27, 28, 29, 30, 33, 34, 35, 36, 37, 38, 41, 42, 43, 44, 45,\n",
       "       46, 50, 51, 52, 53, 54, 57, 58, 59, 60, 61, 62, 63])"
      ]
     },
     "execution_count": 78,
     "metadata": {},
     "output_type": "execute_result"
    }
   ],
   "source": [
    "feature_clip = feature_clip[estimator.feature_importances_ > 0.]\n",
    "feature_clip"
   ]
  },
  {
   "cell_type": "code",
   "execution_count": 79,
   "metadata": {},
   "outputs": [
    {
     "data": {
      "text/plain": [
       "(1347, 47)"
      ]
     },
     "execution_count": 79,
     "metadata": {},
     "output_type": "execute_result"
    }
   ],
   "source": [
    "x_train[:, feature_clip].shape"
   ]
  },
  {
   "cell_type": "code",
   "execution_count": 90,
   "metadata": {},
   "outputs": [],
   "source": [
    "x_train_ = x_train[:, feature_clip]\n",
    "y_train_ = y_train\n",
    "x_test_ = x_test[:, feature_clip]\n",
    "y_test_ = y_test"
   ]
  },
  {
   "cell_type": "code",
   "execution_count": 81,
   "metadata": {},
   "outputs": [],
   "source": [
    "estimator2 = DecisionTreeClassifier()"
   ]
  },
  {
   "cell_type": "code",
   "execution_count": 85,
   "metadata": {},
   "outputs": [
    {
     "data": {
      "text/plain": [
       "DecisionTreeClassifier()"
      ]
     },
     "execution_count": 85,
     "metadata": {},
     "output_type": "execute_result"
    }
   ],
   "source": [
    "estimator2.fit(x_train,y_train_)"
   ]
  },
  {
   "cell_type": "code",
   "execution_count": 87,
   "metadata": {},
   "outputs": [],
   "source": [
    "y_pred_ = estimator2.predict(x_test_)"
   ]
  },
  {
   "cell_type": "code",
   "execution_count": 88,
   "metadata": {},
   "outputs": [
    {
     "data": {
      "text/plain": [
       "0.8488888888888889"
      ]
     },
     "execution_count": 88,
     "metadata": {},
     "output_type": "execute_result"
    }
   ],
   "source": [
    "accuracy_score(y_test_,y_pred_)"
   ]
  },
  {
   "cell_type": "code",
   "execution_count": null,
   "metadata": {},
   "outputs": [],
   "source": [
    "#去掉特征前后，模型的准确率提升并不明显，且有时会降低。\n",
    "#原模型参数max_depth=8，其他参数均为默认值，准确率85.11%时，得到的特征重要程度；再利用该特征重要程度对特征筛选后，再用默认参数重建模型，得到的准确率为87.11%。"
   ]
  },
  {
   "cell_type": "code",
   "execution_count": null,
   "metadata": {},
   "outputs": [],
   "source": [
    "#预测结果混淆矩阵可视化"
   ]
  },
  {
   "cell_type": "code",
   "execution_count": 91,
   "metadata": {},
   "outputs": [
    {
     "data": {
      "text/plain": [
       "array([[41,  0,  0,  0,  0,  2,  0,  0,  1,  0],\n",
       "       [ 0, 35,  2,  4,  3,  2,  0,  0,  5,  0],\n",
       "       [ 0,  0, 45,  2,  0,  0,  0,  0,  2,  0],\n",
       "       [ 0,  1,  1, 26,  0,  1,  0,  1,  3,  4],\n",
       "       [ 1,  0,  0,  0, 44,  1,  0,  3,  0,  1],\n",
       "       [ 0,  0,  0,  0,  1, 43,  0,  2,  0,  1],\n",
       "       [ 0,  0,  0,  1,  1,  0, 51,  0,  1,  0],\n",
       "       [ 0,  1,  0,  0,  0,  1,  0, 37,  0,  2],\n",
       "       [ 0,  2,  1,  5,  1,  1,  0,  0, 29,  1],\n",
       "       [ 0,  1,  0,  3,  0,  0,  0,  0,  2, 31]], dtype=int64)"
      ]
     },
     "execution_count": 91,
     "metadata": {},
     "output_type": "execute_result"
    }
   ],
   "source": [
    "conf_m = confusion_matrix(y_test_,y_pred_)\n",
    "conf_m"
   ]
  },
  {
   "cell_type": "code",
   "execution_count": 92,
   "metadata": {},
   "outputs": [
    {
     "data": {
      "image/png": "[encoded data removed]",
      "text/plain": [
       "<Figure size 432x288 with 2 Axes>"
      ]
     },
     "metadata": {
      "needs_background": "light"
     },
     "output_type": "display_data"
    }
   ],
   "source": [
    "sns.heatmap(conf_m,annot=True,square=True)\n",
    "plt.show()"
   ]
  },
  {
   "cell_type": "code",
   "execution_count": null,
   "metadata": {},
   "outputs": [],
   "source": [
    "\n",
    "调参前后准确率对比：\n",
    "all defualt 代表全部为默认值；\n",
    "all feature准确率 代表所有特征训练的准确率最佳结果；\n",
    "cliped feature准确率 代表步骤9中，去掉特征重要程度0的特征用默认参数重新训练后的准确率\n",
    "all feature准确率 与 cliped feature准确率 的为同一次运行得到的结果\n",
    "本次调参只调整了单个参数，未同时调整\n",
    "参数名称\t参数值\tall feature准确率\tcliped feature准确率\n",
    "all default\t\t86.67%\t84%\n",
    "max_depth\t8\t85.11%\t87.11%\n",
    "max_features\tlog2\t78.22%\t84.89%\n",
    "max_features\tsqrt\t84.00%\t85.56%\n",
    "min_samples_split\t4\t84.89%\t84.67%\n",
    "min_samples_split\t10\t83.78%\t84.67%\n",
    "当使用默认参数进行训练时，去掉特征重要程度0的特征再次训练，并不一定会提升准确率；\n",
    "当调整了某个参数值时，大概率情况下，去掉特征重要程度0的特征再次训练会对准确率有1~2个百分点的提升。"
   ]
  }
 ],
 "metadata": {
  "kernelspec": {
   "display_name": "Python 3",
   "language": "python",
   "name": "python3"
  },
  "language_info": {
   "codemirror_mode": {
    "name": "ipython",
    "version": 3
   },
   "file_extension": ".py",
   "mimetype": "text/x-python",
   "name": "python",
   "nbconvert_exporter": "python",
   "pygments_lexer": "ipython3",
   "version": "3.8.3"
  }
 },
 "nbformat": 4,
 "nbformat_minor": 4
}
